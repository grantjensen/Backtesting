{
 "cells": [
  {
   "cell_type": "code",
   "execution_count": 1,
   "metadata": {},
   "outputs": [],
   "source": [
    "import pyspark\n",
    "from pyspark.context import SparkContext\n",
    "from pyspark.sql import SparkSession, Window\n",
    "from pyspark.sql import functions as f\n",
    "from pyspark.sql.functions import col, signum\n",
    "\n",
    "spark = SparkSession.builder.master(\"local[1]\").getOrCreate()\n"
   ]
  },
  {
   "cell_type": "code",
   "execution_count": 2,
   "metadata": {},
   "outputs": [
    {
     "name": "stdout",
     "output_type": "stream",
     "text": [
      "+------+-------+------+-------+-------+------+----------+------+\n",
      "|Ticker|   Open|  High|    Low|  Close|Volume|      Time|Status|\n",
      "+------+-------+------+-------+-------+------+----------+------+\n",
      "|   AAT|  35.82| 35.82|  35.82|  35.82| 304.0|1583965200|    ok|\n",
      "|    AB|  35.88| 35.88|  35.88|  35.88| 100.0|1582235820|    ok|\n",
      "|  AAAU|  14.89| 14.89|  14.88|  14.88| 868.0|1568210640|    ok|\n",
      "|   AAP|157.964|158.58|157.964|158.105|6226.0|1573846380|    ok|\n",
      "|  AACG|   1.28|  1.34|   1.26|   1.34|5370.0|1591882500|    ok|\n",
      "+------+-------+------+-------+-------+------+----------+------+\n",
      "only showing top 5 rows\n",
      "\n"
     ]
    }
   ],
   "source": [
    "#Need to carry over from day to day\n",
    "#Dollar bars\n",
    "df=spark.read.parquet(\"Allcandlestick.parquet\")\n",
    "df.show(5)"
   ]
  },
  {
   "cell_type": "code",
   "execution_count": 3,
   "metadata": {},
   "outputs": [
    {
     "name": "stdout",
     "output_type": "stream",
     "text": [
      "+-------------+\n",
      "|      DolExch|\n",
      "+-------------+\n",
      "|      231.235|\n",
      "|  1232713.635|\n",
      "|   1312601.32|\n",
      "|1.603866854E7|\n",
      "|     33301.68|\n",
      "+-------------+\n",
      "only showing top 5 rows\n",
      "\n",
      "+------+-----+-----+-----+-------+------+----------+------+------------------+-----------------+\n",
      "|Ticker| Open| High|  Low|  Close|Volume|      Time|Status|           DolExch|       CumDolExch|\n",
      "+------+-----+-----+-----+-------+------+----------+------+------------------+-----------------+\n",
      "|   AAT|47.64|47.64|47.64|  47.64|1621.0|1562607000|    ok|          77224.44|         77224.44|\n",
      "|   AAT| 47.8| 47.8| 47.8|   47.8| 200.0|1562607600|    ok|            9560.0|         86784.44|\n",
      "|   AAT| 47.8|47.97|47.74|  47.97|3076.0|1562607900|    ok|         147555.72|        234340.16|\n",
      "|   AAT|47.96|47.97|47.89|47.8925|2097.0|1562607960|    ok|       100430.5725|      334770.7325|\n",
      "|   AAT|47.89|47.91|47.88|  47.88|1744.0|1562608020|    ok|          83502.72|      418273.4525|\n",
      "|   AAT|47.83|47.83|47.82|  47.82| 800.0|1562608080|    ok|           38256.0|      456529.4525|\n",
      "|   AAT|47.75|47.79|47.73|  47.76| 831.0|1562608200|    ok|          39688.56|      496218.0125|\n",
      "|   AAT|47.83|47.83|47.82|  47.82| 681.0|1562608260|    ok|32565.420000000002|      528783.4325|\n",
      "|   AAT|47.81|47.81|47.79|   47.8| 625.0|1562608560|    ok|           29875.0|      558658.4325|\n",
      "|   AAT|47.82|47.82|47.82|  47.82| 400.0|1562608620|    ok|           19128.0|      577786.4325|\n",
      "|   AAT|47.75|47.75|47.75|  47.75| 130.0|1562608740|    ok|            6207.5|      583993.9325|\n",
      "|   AAT|47.72|47.72|47.72|  47.72| 371.0|1562609040|    ok|          17704.12|      601698.0525|\n",
      "|   AAT|47.66|47.66|47.66|  47.66| 200.0|1562609280|    ok|            9532.0|      611230.0525|\n",
      "|   AAT|47.79| 47.8|47.79|   47.8| 200.0|1562609580|    ok|            9560.0|      620790.0525|\n",
      "|   AAT|47.84|47.85|47.84|  47.85| 411.0|1562609700|    ok|19666.350000000002|      640456.4025|\n",
      "|   AAT|47.89|47.89|47.83|  47.83| 525.0|1562609760|    ok|          25110.75|      665567.1525|\n",
      "|   AAT|47.83|47.83|47.78|  47.78|1139.0|1562609820|    ok|          54421.42|      719988.5725|\n",
      "|   AAT|47.78|47.83|47.78|  47.83| 438.0|1562610000|    ok|          20949.54|      740938.1125|\n",
      "|   AAT|47.84|47.84| 47.8|  47.81|1705.0|1562610180|    ok|          81516.05|822454.1625000001|\n",
      "|   AAT|47.84|47.84|47.84|  47.84| 100.0|1562610300|    ok|            4784.0|827238.1625000001|\n",
      "+------+-----+-----+-----+-------+------+----------+------+------------------+-----------------+\n",
      "only showing top 20 rows\n",
      "\n",
      "+--------------------+\n",
      "|          CumDolExch|\n",
      "+--------------------+\n",
      "|1.0807745978499994E7|\n",
      "| 3.114503682609999E7|\n",
      "| 3.148890099609999E7|\n",
      "| 4.035703413079996E7|\n",
      "| 4.192269920079997E7|\n",
      "+--------------------+\n",
      "only showing top 5 rows\n",
      "\n",
      "+----+\n",
      "|Mark|\n",
      "+----+\n",
      "|   1|\n",
      "|   0|\n",
      "+----+\n",
      "\n"
     ]
    }
   ],
   "source": [
    "import sys\n",
    "df=df.withColumn('DolExch',col('Close')*col('Volume'))\n",
    "df.select(\"DolExch\").distinct().show(5)\n",
    "df=df.withColumn(\"CumDolExch\",f.sum(\"DolExch\").over(Window.partitionBy('Ticker').orderBy(\"Time\").rowsBetween(-sys.maxsize,0)))\n",
    "df.show()\n",
    "df.select(\"CumDolExch\").distinct().show(5)\n",
    "df=df.withColumn('DolBars', col('CumDolExch')%(1E7))#Take data pt every 10M dollars exchanged per stock\n",
    "df=df.withColumn('Mark',f.when(df.DolBars<=df.DolExch,1).otherwise(0))\n",
    "df.select(\"Mark\").distinct().show()"
   ]
  },
  {
   "cell_type": "code",
   "execution_count": 4,
   "metadata": {},
   "outputs": [
    {
     "name": "stdout",
     "output_type": "stream",
     "text": [
      "+------+-----+-----+-----+-------+------+----------+------+------------------+-----------------+-----------------+----+-------+\n",
      "|Ticker| Open| High|  Low|  Close|Volume|      Time|Status|           DolExch|       CumDolExch|          DolBars|Mark|CumMark|\n",
      "+------+-----+-----+-----+-------+------+----------+------+------------------+-----------------+-----------------+----+-------+\n",
      "|   AAT|47.64|47.64|47.64|  47.64|1621.0|1562607000|    ok|          77224.44|         77224.44|         77224.44|   1|      1|\n",
      "|   AAT| 47.8| 47.8| 47.8|   47.8| 200.0|1562607600|    ok|            9560.0|         86784.44|         86784.44|   0|      1|\n",
      "|   AAT| 47.8|47.97|47.74|  47.97|3076.0|1562607900|    ok|         147555.72|        234340.16|        234340.16|   0|      1|\n",
      "|   AAT|47.96|47.97|47.89|47.8925|2097.0|1562607960|    ok|       100430.5725|      334770.7325|      334770.7325|   0|      1|\n",
      "|   AAT|47.89|47.91|47.88|  47.88|1744.0|1562608020|    ok|          83502.72|      418273.4525|      418273.4525|   0|      1|\n",
      "|   AAT|47.83|47.83|47.82|  47.82| 800.0|1562608080|    ok|           38256.0|      456529.4525|      456529.4525|   0|      1|\n",
      "|   AAT|47.75|47.79|47.73|  47.76| 831.0|1562608200|    ok|          39688.56|      496218.0125|      496218.0125|   0|      1|\n",
      "|   AAT|47.83|47.83|47.82|  47.82| 681.0|1562608260|    ok|32565.420000000002|      528783.4325|      528783.4325|   0|      1|\n",
      "|   AAT|47.81|47.81|47.79|   47.8| 625.0|1562608560|    ok|           29875.0|      558658.4325|      558658.4325|   0|      1|\n",
      "|   AAT|47.82|47.82|47.82|  47.82| 400.0|1562608620|    ok|           19128.0|      577786.4325|      577786.4325|   0|      1|\n",
      "|   AAT|47.75|47.75|47.75|  47.75| 130.0|1562608740|    ok|            6207.5|      583993.9325|      583993.9325|   0|      1|\n",
      "|   AAT|47.72|47.72|47.72|  47.72| 371.0|1562609040|    ok|          17704.12|      601698.0525|      601698.0525|   0|      1|\n",
      "|   AAT|47.66|47.66|47.66|  47.66| 200.0|1562609280|    ok|            9532.0|      611230.0525|      611230.0525|   0|      1|\n",
      "|   AAT|47.79| 47.8|47.79|   47.8| 200.0|1562609580|    ok|            9560.0|      620790.0525|      620790.0525|   0|      1|\n",
      "|   AAT|47.84|47.85|47.84|  47.85| 411.0|1562609700|    ok|19666.350000000002|      640456.4025|      640456.4025|   0|      1|\n",
      "|   AAT|47.89|47.89|47.83|  47.83| 525.0|1562609760|    ok|          25110.75|      665567.1525|      665567.1525|   0|      1|\n",
      "|   AAT|47.83|47.83|47.78|  47.78|1139.0|1562609820|    ok|          54421.42|      719988.5725|      719988.5725|   0|      1|\n",
      "|   AAT|47.78|47.83|47.78|  47.83| 438.0|1562610000|    ok|          20949.54|      740938.1125|      740938.1125|   0|      1|\n",
      "|   AAT|47.84|47.84| 47.8|  47.81|1705.0|1562610180|    ok|          81516.05|822454.1625000001|822454.1625000001|   0|      1|\n",
      "|   AAT|47.84|47.84|47.84|  47.84| 100.0|1562610300|    ok|            4784.0|827238.1625000001|827238.1625000001|   0|      1|\n",
      "+------+-----+-----+-----+-------+------+----------+------+------------------+-----------------+-----------------+----+-------+\n",
      "only showing top 20 rows\n",
      "\n",
      "+-------+\n",
      "|CumMark|\n",
      "+-------+\n",
      "|     26|\n",
      "|     29|\n",
      "|    474|\n",
      "|    964|\n",
      "|   1677|\n",
      "|   1697|\n",
      "|   1806|\n",
      "|   1950|\n",
      "|   2040|\n",
      "|   2214|\n",
      "+-------+\n",
      "only showing top 10 rows\n",
      "\n"
     ]
    }
   ],
   "source": [
    "df=df.withColumn('CumMark',f.sum(\"Mark\").over(Window.partitionBy('Ticker').orderBy(\"Time\").rowsBetween(-sys.maxsize,0)))\n",
    "df.show(20)\n",
    "df.select(\"CumMark\").distinct().show(10)"
   ]
  },
  {
   "cell_type": "code",
   "execution_count": 5,
   "metadata": {},
   "outputs": [
    {
     "name": "stdout",
     "output_type": "stream",
     "text": [
      "+------+--------+--------+------+--------+--------+----------+------+------------------+--------------------+------------------+----+-------+\n",
      "|Ticker|    Open|    High|   Low|   Close|  Volume|      Time|Status|           DolExch|          CumDolExch|           DolBars|Mark|CumMark|\n",
      "+------+--------+--------+------+--------+--------+----------+------+------------------+--------------------+------------------+----+-------+\n",
      "|  AAPL|  199.31|  199.31|199.03|199.0433|177630.0|1562608020|    ok|    3.5356061379E7|    8.683384657028E8|8338465.7028000355|   1|     26|\n",
      "|  ABBV| 71.5335| 71.5529| 71.45|   71.45|260144.0|1562612640|    ok|         5895625.3|2.5500461000989988E8| 5004610.009899884|   1|     26|\n",
      "|  ABBV| 71.4555|   71.56| 71.42|   71.56|289360.0|1562612700|    ok|        2090696.96| 2.570953069698999E8| 7095306.969899893|   0|     26|\n",
      "|  ABBV|   71.56|   71.56| 71.42|    71.5|322435.0|1562612760|    ok|         2364862.5| 2.594601694698999E8| 9460169.469899893|   0|     26|\n",
      "|   AAP|   157.6|   157.6| 71.42|  157.36|327031.0|1562694720|    ok|         723226.56|2.5067726818459997E8| 677268.1845999658|   1|     26|\n",
      "|   AAP|  157.33|  157.35| 71.42|  157.18|328111.0|1562694780|    ok|          169754.4|2.5084702258459997E8| 847022.5845999718|   0|     26|\n",
      "|   AAP|157.2394|  157.25| 71.42|  157.25|328602.0|1562694840|    ok|          77209.75|2.5092423233459997E8| 924232.3345999718|   0|     26|\n",
      "|   AAP| 157.195| 157.195| 71.42| 157.185|328806.0|1562694900|    ok|          32065.74|2.5095629807459998E8| 956298.0745999813|   0|     26|\n",
      "|   AAP|  157.09|  157.09| 71.42|  156.87|330005.0|1562694960|    ok|         188087.13|2.5114438520459998E8|1144385.2045999765|   0|     26|\n",
      "|   AAP|  156.76|  156.79| 71.42| 156.775|330848.0|1562695020|    ok|        132161.325|2.5127654652959996E8|1276546.5295999646|   0|     26|\n",
      "|   AAP| 156.755| 156.765| 71.42|  156.73|332598.0|1562695080|    ok|          274277.5|2.5155082402959996E8|1550824.0295999646|   0|     26|\n",
      "|   AAP|  156.65|  156.65| 71.42|   156.5|334627.0|1562695140|    ok|          317538.5|2.5186836252959996E8|1868362.5295999646|   0|     26|\n",
      "|   AAP|  156.36|  156.43| 71.42|  156.12|339046.0|1562695200|    ok|         689894.28|2.5255825680959997E8| 2558256.809599966|   0|     26|\n",
      "|   AAP|  156.11|  156.11| 71.42|  155.96|340253.0|1562695260|    ok|         188243.72|2.5274650052959996E8|2746500.5295999646|   0|     26|\n",
      "|   AAP|  155.95|  156.24| 71.42| 156.205|346924.0|1562695320|    ok|       1042043.555|2.5378854408459997E8| 3788544.084599972|   0|     26|\n",
      "|   AAP|  156.04|  156.04| 71.42|  155.97|347477.0|1562695380|    ok|          86251.41|2.5387479549459997E8| 3874795.494599968|   0|     26|\n",
      "|   AAP|  155.89|  155.93| 71.42|  155.88|347889.0|1562695440|    ok|          64222.56|2.5393901805459997E8|3939018.0545999706|   0|     26|\n",
      "|   AAP|  155.86| 155.935| 71.42|  155.71|351088.0|1562695500|    ok|498116.29000000004|2.5443713434459996E8| 4437134.344599962|   0|     26|\n",
      "|   AAP|  155.78|  155.89| 71.42|  155.76|353699.0|1562695560|    ok|         406689.36|2.5484382370459998E8| 4843823.704599977|   0|     26|\n",
      "|   AAP|155.7817|155.7817| 71.42|  155.78|354031.0|1562695620|    ok|          51718.96|2.5489554266459998E8| 4895542.664599985|   0|     26|\n",
      "+------+--------+--------+------+--------+--------+----------+------+------------------+--------------------+------------------+----+-------+\n",
      "only showing top 20 rows\n",
      "\n",
      "Row(Ticker='AAPL', Open=199.31, High=199.31, Low=199.03, Close=199.0433, Volume=177630.0, Time=1562608020, Status='ok', DolExch=35356061.379, CumDolExch=868338465.7028, DolBars=8338465.7028000355, Mark=1, CumMark=26)\n",
      "Row(Ticker='AAPL', Open=199.31, High=199.31, Low=199.03, Close=199.0433, Volume=177630.0, Time=1562608020, Status='ok', DolExch=35356061.379, CumDolExch=868338465.7028, DolBars=8338465.7028000355, Mark=1, CumMark=26)\n",
      "Row(Ticker='AAT', Open=76.2, High=47.64, Low=4.95, Close=47.64, Volume=789039.0, Time=1562607000, Status='ok', DolExch=77224.44, CumDolExch=77224.44, DolBars=77224.44, Mark=1, CumMark=1, next_val=47.98, Target=0.007136859781695976)\n"
     ]
    },
    {
     "data": {
      "text/plain": [
       "Row(Ticker='AAT', Time=1562607000, Open=76.2, Low=4.95, High=47.64, Close=47.64, Volume=789039.0, Target=0.007136859781695976)"
      ]
     },
     "execution_count": 5,
     "metadata": {},
     "output_type": "execute_result"
    }
   ],
   "source": [
    "df=df.withColumn(\"Volume\", f.sum(\"Volume\").over(Window.partitionBy(\"CumMark\").orderBy(\"Time\").rowsBetween(-sys.maxsize,0)))\n",
    "\n",
    "df=df.withColumn(\"Low\",f.min(\"Low\").over(Window.partitionBy(\"CumMark\").orderBy(\"Time\").rowsBetween(-sys.maxsize,0)))\n",
    "df.show()\n",
    "print(df.head())\n",
    "df=df.withColumn(\"Open\",f.first(\"Open\").over(Window.partitionBy(\"CumMark\").orderBy(\"Time\").rowsBetween(-sys.maxsize,0)))\n",
    "print(df.head())\n",
    "df=df.withColumn(\"Close\",f.last(\"Close\").over(Window.partitionBy(\"CumMark\").orderBy(\"Time\").rowsBetween(-sys.maxsize,0)))\n",
    "df=df.filter(df.Mark==1)\n",
    "\n",
    "#Add target vector(2 for +change, 1 for no change 0 for -change)\n",
    "df=df.withColumn(\"next_val\", f.lead(col(\"Close\"),1).over(Window.partitionBy('Ticker').orderBy(df[\"Time\"])))#Need to add partitionBy()\n",
    "df=df.withColumn(\"Target\", (col(\"next_val\")-col(\"Close\"))/col(\"Close\"))\n",
    "print(df.head())\n",
    "df=df.select(\"Ticker\",\"Time\",\"Open\",\"Low\",\"High\",\"Close\",\"Volume\",\"Target\")#.withColumn(\"Target\", 100*(col(\"next_val\")-col(\"Close\"))/col(\"Close\"))\n",
    "#df=df.drop(\"next_val\").withColumn(\"Target\",1+signum(col(\"Target\")))\n",
    "df.head()"
   ]
  },
  {
   "cell_type": "code",
   "execution_count": 6,
   "metadata": {},
   "outputs": [
    {
     "name": "stdout",
     "output_type": "stream",
     "text": [
      "{'AAT': '1', 'ABMD': '2', 'AA': '3', 'AAPL': '4', 'ACA': '5', 'ABM': '6', 'AACG': '7', 'ABEO': '8', 'ABTX': '9', 'ABIO': '10', 'ABEV': '11', 'ABBV': '12', 'AAP': '13', 'AAON': '14', 'AAWW': '15', 'ABUS': '16', 'ABG': '17', 'AAXN': '18', 'ACAM': '19', 'ABCB': '20', 'AAOI': '21', 'A': '22', 'ABEQ': '23', 'AAAU': '24', 'AAL': '25', 'ABR': '26', 'AAXJ': '27', 'AB': '28', 'AAU': '29', 'ABT': '30', 'ABB': '31', 'ABC': '32', 'AC': '33', 'ACBI': '34', 'AAME': '35', 'ACAD': '36', 'ACAMU': '37', 'ACB': '38', 'AADR': '39', 'ACAMW': '40'}\n",
      "root\n",
      " |-- Ticker: string (nullable = true)\n",
      " |-- Time: long (nullable = true)\n",
      " |-- Open: double (nullable = true)\n",
      " |-- Low: double (nullable = true)\n",
      " |-- High: double (nullable = true)\n",
      " |-- Close: double (nullable = true)\n",
      " |-- Volume: double (nullable = true)\n",
      " |-- Target: double (nullable = true)\n",
      "\n",
      "root\n",
      " |-- Ticker: integer (nullable = true)\n",
      " |-- Time: long (nullable = true)\n",
      " |-- Open: double (nullable = true)\n",
      " |-- Low: double (nullable = true)\n",
      " |-- High: double (nullable = true)\n",
      " |-- Close: double (nullable = true)\n",
      " |-- Volume: double (nullable = true)\n",
      " |-- Target: double (nullable = true)\n",
      "\n"
     ]
    }
   ],
   "source": [
    "#Convert Ticker value to int to include in ML algo, dictionary present (tick_dict) to convert back if needed\n",
    "tickers=df.select(\"Ticker\").distinct().rdd.flatMap(lambda x: x).collect()\n",
    "\n",
    "tick_dict = {val : str(idx + 1) for idx, val in enumerate(tickers)} \n",
    "print(tick_dict)\n",
    "\n",
    "from pyspark.sql.types import IntegerType\n",
    "df=df.replace(to_replace=tick_dict, subset=['Ticker'])\n",
    "\n",
    "df.printSchema()\n",
    "df=df.withColumn(\"Ticker\",col(\"Ticker\").cast(IntegerType()))\n",
    "df.printSchema()"
   ]
  },
  {
   "cell_type": "code",
   "execution_count": 7,
   "metadata": {},
   "outputs": [
    {
     "name": "stdout",
     "output_type": "stream",
     "text": [
      "152960\n"
     ]
    }
   ],
   "source": [
    "from pyspark.ml.feature import VectorAssembler\n",
    "#Create input features\n",
    "df_cols=df.columns\n",
    "df_cols=[ elem for elem in df_cols if elem not in [\"Time\",\"Target\"]]\n",
    "#Move features to a single vector\n",
    "assembler=VectorAssembler(inputCols=df_cols,outputCol=\"features\")\n",
    "df=assembler.transform(df)\n",
    "df=df.na.drop()\n",
    "df=df.dropDuplicates()\n",
    "print(df.count())"
   ]
  },
  {
   "cell_type": "code",
   "execution_count": 8,
   "metadata": {},
   "outputs": [
    {
     "name": "stdout",
     "output_type": "stream",
     "text": [
      "+------+----------+--------+-----+--------+-------+---------+--------------------+--------------------+\n",
      "|Ticker|      Time|    Open|  Low|    High|  Close|   Volume|              Target|            features|\n",
      "+------+----------+--------+-----+--------+-------+---------+--------------------+--------------------+\n",
      "|     1|1581386520|  199.92| 5.21|   46.15|  46.15|6429415.0|                 0.0|[1.0,199.92,5.21,...|\n",
      "|     1|1585596780|  199.93| 5.27|   24.23|  24.23|7589037.0|0.022286421791167937|[1.0,199.93,5.27,...|\n",
      "|     1|1591048140|199.8948| 5.12|   27.02|   27.0|7875015.0| 7.40740740740725E-4|[1.0,199.8948,5.1...|\n",
      "|     2|1564689120|  199.49| 5.38| 208.349| 207.77|2578812.0|-0.00514992539827...|[2.0,199.49,5.38,...|\n",
      "|     2|1566858780| 201.035| 4.47|  190.12| 190.12|1822585.0|0.001735745844729...|[2.0,201.035,4.47...|\n",
      "|     2|1570049880|  203.04| 4.66|  165.25|  165.0|2923004.0|-0.00515151515151...|[2.0,203.04,4.66,...|\n",
      "|     2|1570562640| 203.185|4.665|  160.08| 160.08|2646993.0|0.002623688155921...|[2.0,203.185,4.66...|\n",
      "|     2|1571873940|  203.94|4.505|  178.75| 178.72|2793398.0|0.001007162041181775|[2.0,203.94,4.505...|\n",
      "|     2|1572031860|  203.72| 4.62|  182.18|182.075|2620742.0|0.004256487711108...|[2.0,203.72,4.62,...|\n",
      "|     2|1573589760|  202.27| 67.1|219.6774|219.495| 581338.0| 0.01615070958336175|[2.0,202.27,67.1,...|\n",
      "+------+----------+--------+-----+--------+-------+---------+--------------------+--------------------+\n",
      "only showing top 10 rows\n",
      "\n"
     ]
    }
   ],
   "source": [
    "df.show(10)\n",
    "df=df.na.drop()\n",
    "df=df.dropDuplicates()"
   ]
  },
  {
   "cell_type": "code",
   "execution_count": 9,
   "metadata": {},
   "outputs": [
    {
     "name": "stdout",
     "output_type": "stream",
     "text": [
      "+------+----------+--------+------+--------+-------+---------+--------------------+--------------------+\n",
      "|Ticker|      Time|    Open|   Low|    High|  Close|   Volume|              Target|            features|\n",
      "+------+----------+--------+------+--------+-------+---------+--------------------+--------------------+\n",
      "|     1|1581386520|  199.92|  5.21|   46.15|  46.15|6429415.0|                 0.0|[1.0,199.92,5.21,...|\n",
      "|     1|1585596780|  199.93|  5.27|   24.23|  24.23|7589037.0|0.022286421791167937|[1.0,199.93,5.27,...|\n",
      "|     1|1591048140|199.8948|  5.12|   27.02|   27.0|7875015.0| 7.40740740740725E-4|[1.0,199.8948,5.1...|\n",
      "|     2|1564689120|  199.49|  5.38| 208.349| 207.77|2578812.0|-0.00514992539827...|[2.0,199.49,5.38,...|\n",
      "|     2|1570049880|  203.04|  4.66|  165.25|  165.0|2923004.0|-0.00515151515151...|[2.0,203.04,4.66,...|\n",
      "|     2|1570562640| 203.185| 4.665|  160.08| 160.08|2646993.0|0.002623688155921...|[2.0,203.185,4.66...|\n",
      "|     2|1571873940|  203.94| 4.505|  178.75| 178.72|2793398.0|0.001007162041181775|[2.0,203.94,4.505...|\n",
      "|     2|1572031860|  203.72|  4.62|  182.18|182.075|2620742.0|0.004256487711108...|[2.0,203.72,4.62,...|\n",
      "|     2|1573589760|  202.27|  67.1|219.6774|219.495| 581338.0| 0.01615070958336175|[2.0,202.27,67.1,...|\n",
      "|     2|1573593960|  202.47|67.235|  225.14|224.555| 446730.0|0.002159827213822...|[2.0,202.47,67.23...|\n",
      "+------+----------+--------+------+--------+-------+---------+--------------------+--------------------+\n",
      "only showing top 10 rows\n",
      "\n",
      "repartitioning\n",
      "End repartition\n",
      "Start training\n",
      "End training\n",
      "run-time: 115.6\n",
      "root\n",
      " |-- Ticker: integer (nullable = true)\n",
      " |-- Time: long (nullable = true)\n",
      " |-- Open: double (nullable = true)\n",
      " |-- Low: double (nullable = true)\n",
      " |-- High: double (nullable = true)\n",
      " |-- Close: double (nullable = true)\n",
      " |-- Volume: double (nullable = true)\n",
      " |-- Target: double (nullable = true)\n",
      " |-- features: vector (nullable = true)\n",
      " |-- prediction: double (nullable = false)\n",
      "\n"
     ]
    }
   ],
   "source": [
    "from pyspark.ml.regression  import RandomForestRegressor\n",
    "import time\n",
    "\n",
    "\n",
    "\n",
    "\n",
    "train,test=df.randomSplit([0.8,0.2],seed=1)\n",
    "train.show(10)\n",
    "print('repartitioning')\n",
    "train=train.repartition(10)\n",
    "test=test.repartition(10)\n",
    "print('End repartition')\n",
    "\n",
    "start_time=time.time()\n",
    "\n",
    "dt=RandomForestRegressor(featuresCol='features',\n",
    "                         labelCol='Target',\n",
    "                         maxDepth=30,\n",
    "                         minInstancesPerNode=2)\n",
    "print('Start training')\n",
    "dtModel=dt.fit(train)\n",
    "print('End training')\n",
    "predictions=dtModel.transform(test)\n",
    "end_time=time.time()\n",
    "\n",
    "delta_time = end_time - start_time\n",
    "\n",
    "# 5. print total run time \n",
    "print(f'run-time: {round(delta_time, 2)}')\n",
    "\n",
    "predictions.printSchema()\n",
    "\n",
    "#predictions.select('Time','Target','probability','prediction').show()"
   ]
  },
  {
   "cell_type": "code",
   "execution_count": 10,
   "metadata": {},
   "outputs": [],
   "source": [
    "#from pyspark.ml.tuning import CrossValidator\n"
   ]
  },
  {
   "cell_type": "code",
   "execution_count": 11,
   "metadata": {},
   "outputs": [
    {
     "name": "stdout",
     "output_type": "stream",
     "text": [
      "+----------+--------------------+--------------------+--------------------+--------------------+\n",
      "|      Time|              Target|          prediction|            ToInvest|             Revenue|\n",
      "+----------+--------------------+--------------------+--------------------+--------------------+\n",
      "|1567704900|0.011451971127151423|3.456266235097209E-4|  0.5975054084404046|0.006842614685776331|\n",
      "|1580932740|0.006048621612190253|4.794524063720834E-5| 0.08288580404716109|5.013448657034249E-4|\n",
      "|1563404820|0.001383672088589...|-1.50338051465750...|                 0.0|                 0.0|\n",
      "|1563905100|3.599366511493431...|-4.15745063039012...|                 0.0|                 0.0|\n",
      "|1572983220|5.835667600372598E-4|-1.79519234424340...|                 0.0|                 0.0|\n",
      "|1589840760|2.740030480060778...|-1.27425999260278...|                 0.0|                 0.0|\n",
      "|1584458940|6.013229104029804E-4|-1.01366015652250...|                 0.0|                 0.0|\n",
      "|1580514420|3.511977191747271E-4|-1.04512826220705...|                 0.0|                 0.0|\n",
      "|1583200260|-7.80433159073889...|4.712420218719676...|  0.8146642579024957|-6.35791000379430...|\n",
      "|1584487500|-6.78995087270902...|7.007238800341976E-5| 0.12113832664051198|-8.22523286691255...|\n",
      "|1584390000|0.003799392097264...|-7.55995972390588...|                 0.0|                 0.0|\n",
      "|1575407820|-1.94061711624120...|-1.25963064140281...|                 0.0|                -0.0|\n",
      "|1570472940|5.263157894737041E-4|3.239998020531284...|0.005601178291605765|2.947988574529461...|\n",
      "|1579049040|-0.00145696136138...|3.580104743939162...|  0.6189141118715454|-9.01733947012566...|\n",
      "|1583358780|0.001781472684085...|-0.00314998335380...|                 0.0|                 0.0|\n",
      "|1573167360| 1.53881664999694E-4|-2.42266493728640...|                 0.0|                 0.0|\n",
      "|1564526640|-4.46394505913817...|1.365757517862089...|0.023610666772543615|-1.05396719282253...|\n",
      "|1576525920|6.982740098832385E-4|4.753252466308273E-5| 0.08217231726716233|5.737879347953911E-5|\n",
      "|1573601100|-1.82211298015327E-4|4.542723048616636...| 0.07853276935186626|-1.43095578403418...|\n",
      "|1586352600|-0.02164368893053...|-5.92525471003776...|                 0.0|                -0.0|\n",
      "+----------+--------------------+--------------------+--------------------+--------------------+\n",
      "only showing top 20 rows\n",
      "\n",
      "30656\n"
     ]
    }
   ],
   "source": [
    "max=predictions.agg({\"prediction\":\"max\"}).collect()[0]\n",
    "max=max[\"max(prediction)\"]#Max predicted increase\n",
    "\n",
    "toDisplay=predictions.select(\"Time\",\"Target\",\"prediction\")\n",
    "toDisplay=toDisplay.withColumn(\"ToInvest\",f.when(col('prediction')>0,1000.*col(\"prediction\")/max).otherwise(0))\n",
    "toDisplay=toDisplay.withColumn(\"Revenue\", col(\"ToInvest\")*col(\"Target\"))\n",
    "#toDisplay=toDisplay.withColumn(\"Target\",f.round(100*col(\"Target\"),5))\n",
    "#toDisplay=toDisplay.withColumn(\"prediction\",f.round(100*col(\"prediction\"),5))\n",
    "toDisplay.show()\n",
    "print(predictions.count())"
   ]
  },
  {
   "cell_type": "code",
   "execution_count": null,
   "metadata": {},
   "outputs": [
    {
     "name": "stdout",
     "output_type": "stream",
     "text": [
      "-39.21212737325498\n"
     ]
    }
   ],
   "source": [
    "profit_row=toDisplay.agg({\"Revenue\":\"sum\"}).collect()[0]\n",
    "\n",
    "profit=profit_row[\"sum(Revenue)\"]\n",
    "print(profit)\n",
    "\n",
    "toDisplay.filter(col(\"ToInvest\")>0).show()"
   ]
  },
  {
   "cell_type": "code",
   "execution_count": null,
   "metadata": {},
   "outputs": [],
   "source": []
  }
 ],
 "metadata": {
  "kernelspec": {
   "display_name": "Python 3",
   "language": "python",
   "name": "python3"
  },
  "language_info": {
   "codemirror_mode": {
    "name": "ipython",
    "version": 3
   },
   "file_extension": ".py",
   "mimetype": "text/x-python",
   "name": "python",
   "nbconvert_exporter": "python",
   "pygments_lexer": "ipython3",
   "version": "3.7.3"
  }
 },
 "nbformat": 4,
 "nbformat_minor": 4
}
