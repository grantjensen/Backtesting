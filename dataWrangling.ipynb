{
 "cells": [
  {
   "cell_type": "code",
   "execution_count": 1,
   "metadata": {},
   "outputs": [],
   "source": [
    "import pyspark\n",
    "from pyspark.context import SparkContext\n",
    "from pyspark.sql import SparkSession, Window\n",
    "from pyspark.sql import functions as f\n",
    "from pyspark.sql.functions import col, signum\n",
    "\n",
    "spark = SparkSession.builder.master(\"local[1]\").getOrCreate()\n"
   ]
  },
  {
   "cell_type": "code",
   "execution_count": 2,
   "metadata": {},
   "outputs": [
    {
     "name": "stdout",
     "output_type": "stream",
     "text": [
      "+------+-------+------+-------+-------+------+----------+------+\n",
      "|Ticker|   Open|  High|    Low|  Close|Volume|      Time|Status|\n",
      "+------+-------+------+-------+-------+------+----------+------+\n",
      "|   AAT|  35.82| 35.82|  35.82|  35.82| 304.0|1583965200|    ok|\n",
      "|    AB|  35.88| 35.88|  35.88|  35.88| 100.0|1582235820|    ok|\n",
      "|  AAAU|  14.89| 14.89|  14.88|  14.88| 868.0|1568210640|    ok|\n",
      "|   AAP|157.964|158.58|157.964|158.105|6226.0|1573846380|    ok|\n",
      "|  AACG|   1.28|  1.34|   1.26|   1.34|5370.0|1591882500|    ok|\n",
      "+------+-------+------+-------+-------+------+----------+------+\n",
      "only showing top 5 rows\n",
      "\n"
     ]
    }
   ],
   "source": [
    "#Need to carry over from day to day\n",
    "#Dollar bars\n",
    "df=spark.read.parquet(\"Allcandlestick.parquet\")\n",
    "df.show(5)"
   ]
  },
  {
   "cell_type": "code",
   "execution_count": 3,
   "metadata": {},
   "outputs": [
    {
     "name": "stdout",
     "output_type": "stream",
     "text": [
      "+-------------+\n",
      "|      DolExch|\n",
      "+-------------+\n",
      "|      231.235|\n",
      "|  1232713.635|\n",
      "|   1312601.32|\n",
      "|1.603866854E7|\n",
      "|     33301.68|\n",
      "+-------------+\n",
      "only showing top 5 rows\n",
      "\n",
      "+------+-----+-----+-----+-------+------+----------+------+------------------+-----------------+\n",
      "|Ticker| Open| High|  Low|  Close|Volume|      Time|Status|           DolExch|       CumDolExch|\n",
      "+------+-----+-----+-----+-------+------+----------+------+------------------+-----------------+\n",
      "|   AAT|47.64|47.64|47.64|  47.64|1621.0|1562607000|    ok|          77224.44|         77224.44|\n",
      "|   AAT| 47.8| 47.8| 47.8|   47.8| 200.0|1562607600|    ok|            9560.0|         86784.44|\n",
      "|   AAT| 47.8|47.97|47.74|  47.97|3076.0|1562607900|    ok|         147555.72|        234340.16|\n",
      "|   AAT|47.96|47.97|47.89|47.8925|2097.0|1562607960|    ok|       100430.5725|      334770.7325|\n",
      "|   AAT|47.89|47.91|47.88|  47.88|1744.0|1562608020|    ok|          83502.72|      418273.4525|\n",
      "|   AAT|47.83|47.83|47.82|  47.82| 800.0|1562608080|    ok|           38256.0|      456529.4525|\n",
      "|   AAT|47.75|47.79|47.73|  47.76| 831.0|1562608200|    ok|          39688.56|      496218.0125|\n",
      "|   AAT|47.83|47.83|47.82|  47.82| 681.0|1562608260|    ok|32565.420000000002|      528783.4325|\n",
      "|   AAT|47.81|47.81|47.79|   47.8| 625.0|1562608560|    ok|           29875.0|      558658.4325|\n",
      "|   AAT|47.82|47.82|47.82|  47.82| 400.0|1562608620|    ok|           19128.0|      577786.4325|\n",
      "|   AAT|47.75|47.75|47.75|  47.75| 130.0|1562608740|    ok|            6207.5|      583993.9325|\n",
      "|   AAT|47.72|47.72|47.72|  47.72| 371.0|1562609040|    ok|          17704.12|      601698.0525|\n",
      "|   AAT|47.66|47.66|47.66|  47.66| 200.0|1562609280|    ok|            9532.0|      611230.0525|\n",
      "|   AAT|47.79| 47.8|47.79|   47.8| 200.0|1562609580|    ok|            9560.0|      620790.0525|\n",
      "|   AAT|47.84|47.85|47.84|  47.85| 411.0|1562609700|    ok|19666.350000000002|      640456.4025|\n",
      "|   AAT|47.89|47.89|47.83|  47.83| 525.0|1562609760|    ok|          25110.75|      665567.1525|\n",
      "|   AAT|47.83|47.83|47.78|  47.78|1139.0|1562609820|    ok|          54421.42|      719988.5725|\n",
      "|   AAT|47.78|47.83|47.78|  47.83| 438.0|1562610000|    ok|          20949.54|      740938.1125|\n",
      "|   AAT|47.84|47.84| 47.8|  47.81|1705.0|1562610180|    ok|          81516.05|822454.1625000001|\n",
      "|   AAT|47.84|47.84|47.84|  47.84| 100.0|1562610300|    ok|            4784.0|827238.1625000001|\n",
      "+------+-----+-----+-----+-------+------+----------+------+------------------+-----------------+\n",
      "only showing top 20 rows\n",
      "\n",
      "+--------------------+\n",
      "|          CumDolExch|\n",
      "+--------------------+\n",
      "|1.0807745978499994E7|\n",
      "| 3.114503682609999E7|\n",
      "| 3.148890099609999E7|\n",
      "| 4.035703413079996E7|\n",
      "| 4.192269920079997E7|\n",
      "+--------------------+\n",
      "only showing top 5 rows\n",
      "\n",
      "+----+\n",
      "|Mark|\n",
      "+----+\n",
      "|   1|\n",
      "|   0|\n",
      "+----+\n",
      "\n"
     ]
    }
   ],
   "source": [
    "import sys\n",
    "df=df.withColumn('DolExch',col('Close')*col('Volume'))\n",
    "df.select(\"DolExch\").distinct().show(5)\n",
    "df=df.withColumn(\"CumDolExch\",f.sum(\"DolExch\").over(Window.partitionBy('Ticker').orderBy(\"Time\").rowsBetween(-sys.maxsize,0)))\n",
    "df.show()\n",
    "df.select(\"CumDolExch\").distinct().show(5)\n",
    "df=df.withColumn('DolBars', col('CumDolExch')%(1E8))#Take data pt every 10M dollars exchanged per stock\n",
    "df=df.withColumn('Mark',f.when(df.DolBars<=df.DolExch,1).otherwise(0))\n",
    "df.select(\"Mark\").distinct().show()"
   ]
  },
  {
   "cell_type": "code",
   "execution_count": 4,
   "metadata": {},
   "outputs": [
    {
     "name": "stdout",
     "output_type": "stream",
     "text": [
      "+------+-----+-----+-----+-------+------+----------+------+------------------+-----------------+-----------------+----+-------+\n",
      "|Ticker| Open| High|  Low|  Close|Volume|      Time|Status|           DolExch|       CumDolExch|          DolBars|Mark|CumMark|\n",
      "+------+-----+-----+-----+-------+------+----------+------+------------------+-----------------+-----------------+----+-------+\n",
      "|   AAT|47.64|47.64|47.64|  47.64|1621.0|1562607000|    ok|          77224.44|         77224.44|         77224.44|   1|      1|\n",
      "|   AAT| 47.8| 47.8| 47.8|   47.8| 200.0|1562607600|    ok|            9560.0|         86784.44|         86784.44|   0|      1|\n",
      "|   AAT| 47.8|47.97|47.74|  47.97|3076.0|1562607900|    ok|         147555.72|        234340.16|        234340.16|   0|      1|\n",
      "|   AAT|47.96|47.97|47.89|47.8925|2097.0|1562607960|    ok|       100430.5725|      334770.7325|      334770.7325|   0|      1|\n",
      "|   AAT|47.89|47.91|47.88|  47.88|1744.0|1562608020|    ok|          83502.72|      418273.4525|      418273.4525|   0|      1|\n",
      "|   AAT|47.83|47.83|47.82|  47.82| 800.0|1562608080|    ok|           38256.0|      456529.4525|      456529.4525|   0|      1|\n",
      "|   AAT|47.75|47.79|47.73|  47.76| 831.0|1562608200|    ok|          39688.56|      496218.0125|      496218.0125|   0|      1|\n",
      "|   AAT|47.83|47.83|47.82|  47.82| 681.0|1562608260|    ok|32565.420000000002|      528783.4325|      528783.4325|   0|      1|\n",
      "|   AAT|47.81|47.81|47.79|   47.8| 625.0|1562608560|    ok|           29875.0|      558658.4325|      558658.4325|   0|      1|\n",
      "|   AAT|47.82|47.82|47.82|  47.82| 400.0|1562608620|    ok|           19128.0|      577786.4325|      577786.4325|   0|      1|\n",
      "|   AAT|47.75|47.75|47.75|  47.75| 130.0|1562608740|    ok|            6207.5|      583993.9325|      583993.9325|   0|      1|\n",
      "|   AAT|47.72|47.72|47.72|  47.72| 371.0|1562609040|    ok|          17704.12|      601698.0525|      601698.0525|   0|      1|\n",
      "|   AAT|47.66|47.66|47.66|  47.66| 200.0|1562609280|    ok|            9532.0|      611230.0525|      611230.0525|   0|      1|\n",
      "|   AAT|47.79| 47.8|47.79|   47.8| 200.0|1562609580|    ok|            9560.0|      620790.0525|      620790.0525|   0|      1|\n",
      "|   AAT|47.84|47.85|47.84|  47.85| 411.0|1562609700|    ok|19666.350000000002|      640456.4025|      640456.4025|   0|      1|\n",
      "|   AAT|47.89|47.89|47.83|  47.83| 525.0|1562609760|    ok|          25110.75|      665567.1525|      665567.1525|   0|      1|\n",
      "|   AAT|47.83|47.83|47.78|  47.78|1139.0|1562609820|    ok|          54421.42|      719988.5725|      719988.5725|   0|      1|\n",
      "|   AAT|47.78|47.83|47.78|  47.83| 438.0|1562610000|    ok|          20949.54|      740938.1125|      740938.1125|   0|      1|\n",
      "|   AAT|47.84|47.84| 47.8|  47.81|1705.0|1562610180|    ok|          81516.05|822454.1625000001|822454.1625000001|   0|      1|\n",
      "|   AAT|47.84|47.84|47.84|  47.84| 100.0|1562610300|    ok|            4784.0|827238.1625000001|827238.1625000001|   0|      1|\n",
      "+------+-----+-----+-----+-------+------+----------+------+------------------+-----------------+-----------------+----+-------+\n",
      "only showing top 20 rows\n",
      "\n",
      "+-------+\n",
      "|CumMark|\n",
      "+-------+\n",
      "|     26|\n",
      "|     29|\n",
      "|    474|\n",
      "|    964|\n",
      "|   1677|\n",
      "|   1697|\n",
      "|   1806|\n",
      "|   1950|\n",
      "|   2040|\n",
      "|   2214|\n",
      "+-------+\n",
      "only showing top 10 rows\n",
      "\n"
     ]
    }
   ],
   "source": [
    "df=df.withColumn('CumMark',f.sum(\"Mark\").over(Window.partitionBy('Ticker').orderBy(\"Time\").rowsBetween(-sys.maxsize,0)))\n",
    "df=df.na.drop()\n",
    "df=df.dropDuplicates()\n",
    "df.show(20)\n",
    "df.select(\"CumMark\").distinct().show(10)"
   ]
  },
  {
   "cell_type": "code",
   "execution_count": null,
   "metadata": {},
   "outputs": [
    {
     "name": "stdout",
     "output_type": "stream",
     "text": [
      "+------+--------+--------+--------+--------+--------+----------+------+--------------------+--------------------+--------------------+----+-------+\n",
      "|Ticker|    Open|    High|     Low|   Close|  Volume|      Time|Status|             DolExch|          CumDolExch|             DolBars|Mark|CumMark|\n",
      "+------+--------+--------+--------+--------+--------+----------+------+--------------------+--------------------+--------------------+----+-------+\n",
      "|  AAPL|  200.08|  200.16|  200.07|  200.16| 84569.0|1562614140|    ok|       1.692733104E7|   2.6003686751554E9|  368675.15539979935|   1|     26|\n",
      "|  AAPL|200.1401|200.1401|  199.82|  199.95|183251.0|1562614200|    ok|        1.97314659E7|   2.6201001410554E9|2.0100141055399895E7|   0|     26|\n",
      "|  AAPL|  199.95|  199.99|  199.82|199.9293|216765.0|1562614260|    ok|        6700430.5602|   2.6268005716156E9| 2.680057161560011E7|   0|     26|\n",
      "|  AAPL|199.9146|  200.01|  199.82|  199.97|262265.0|1562614320|    ok|           9098635.0|   2.6358992066156E9| 3.589920661560011E7|   0|     26|\n",
      "|  AAPL|  199.97|  199.99|  199.82|  199.99|291272.0|1562614380|    ok|   5801109.930000001|   2.6417003165456E9| 4.170031654559994E7|   0|     26|\n",
      "|  AAPL|  199.97|  200.02|  199.82| 199.995|342089.0|1562614440|    ok|1.0163145915000001E7|   2.6518634624606E9|  5.18634624605999E7|   0|     26|\n",
      "|  AAPL|  199.99|  199.99|199.7601|  199.87|466925.0|1562614500|    ok|       2.495097132E7|   2.6768144337806E9| 7.681443378060007E7|   0|     26|\n",
      "|  AAPL|  199.86|   199.9|  199.65|  199.69|528599.0|1562614560|    ok|       1.231568106E7|   2.6891301148406E9| 8.913011484060001E7|   0|     26|\n",
      "|  ABBV|   70.08|   70.23|   70.04|   70.15|576184.0|1562870760|    ok|  3338087.7500000005|2.5031697659080014E9|   3169765.908001423|   1|     26|\n",
      "|  ABBV|   70.12|   70.17|   70.03|   70.06|660254.0|1562870820|    ok|           5889944.2| 2.509059710108001E9|   9059710.108001232|   0|     26|\n",
      "|  ABBV|   70.05|   70.11|   69.99|   70.06|704107.0|1562870880|    ok|          3072341.18| 2.512132051288001E9| 1.213205128800106E7|   0|     26|\n",
      "|  ABBV|   70.06|   70.15|   69.99|   70.15|737049.0|1562870940|    ok|  2310881.3000000003|2.5144429325880013E9|1.4442932588001251E7|   0|     26|\n",
      "|  ABBV|   70.15|   70.17|   69.99| 70.1015|758509.0|1562871000|    ok|          1504378.19|2.5159473107780013E9|1.5947310778001308E7|   0|     26|\n",
      "|  ABBV|   70.09|   70.19|   69.99|   70.18|785309.0|1562871060|    ok|  1880824.0000000002|2.5178281347780013E9| 1.782813477800131E7|   0|     26|\n",
      "|  ABBV|  70.185|  70.299|   69.99| 70.2583|820148.0|1562871120|    ok|  2447728.9137000004|2.5202758636917014E9|2.0275863691701412E7|   0|     26|\n",
      "|  ABBV|   70.26|   70.36|   69.99|  70.345|843859.0|1562871180|    ok|         1667950.295|2.5219438139867015E9| 2.194381398670149E7|   0|     26|\n",
      "|  ABBV|   70.35|    70.5|   69.99|    70.5|892034.0|1562871240|    ok|           3396337.5|2.5253401514867015E9| 2.534015148670149E7|   0|     26|\n",
      "|  ABBV|   70.49|   70.53|   69.99|   70.34|917810.0|1562871300|    ok|          1813083.84|2.5271532353267016E9| 2.715323532670164E7|   0|     26|\n",
      "|  ABBV|   70.35| 70.3998|   69.99|   70.34|955454.0|1562871360|    ok|          2647878.96|2.5298011142867017E9| 2.980111428670168E7|   0|     26|\n",
      "|  ABBV|   70.33|   70.41|   69.99|   70.36|979710.0|1562871420|    ok|          1706652.16|2.5315077664467015E9|3.1507766446701527E7|   0|     26|\n",
      "+------+--------+--------+--------+--------+--------+----------+------+--------------------+--------------------+--------------------+----+-------+\n",
      "only showing top 20 rows\n",
      "\n"
     ]
    }
   ],
   "source": [
    "df=df.withColumn(\"Volume\", f.sum(\"Volume\").over(Window.partitionBy(\"CumMark\").orderBy(\"Time\").rowsBetween(-sys.maxsize,0)))\n",
    "\n",
    "df=df.withColumn(\"Low\",f.min(\"Low\").over(Window.partitionBy(\"CumMark\").orderBy(\"Time\").rowsBetween(-sys.maxsize,0)))\n",
    "df.show()\n",
    "print(df.head())\n",
    "df=df.withColumn(\"Open\",f.first(\"Open\").over(Window.partitionBy(\"CumMark\").orderBy(\"Time\").rowsBetween(-sys.maxsize,0)))\n",
    "print(df.head())\n",
    "df=df.withColumn(\"Close\",f.last(\"Close\").over(Window.partitionBy(\"CumMark\").orderBy(\"Time\").rowsBetween(-sys.maxsize,0)))\n",
    "df=df.filter(df.Mark==1)\n",
    "\n",
    "#Add target vector(2 for +change, 1 for no change 0 for -change)\n",
    "df=df.withColumn(\"next_val\", f.lead(col(\"Close\"),1).over(Window.partitionBy('Ticker').orderBy(df[\"Time\"])))#Need to add partitionBy()\n",
    "df=df.withColumn(\"Target\", (col(\"next_val\")-col(\"Close\"))/col(\"Close\"))\n",
    "print(df.head())\n",
    "df=df.select(\"Ticker\",\"Time\",\"Open\",\"Low\",\"High\",\"Close\",\"Volume\",\"Target\")#.withColumn(\"Target\", 100*(col(\"next_val\")-col(\"Close\"))/col(\"Close\"))\n",
    "#df=df.drop(\"next_val\").withColumn(\"Target\",1+signum(col(\"Target\")))\n",
    "df.head()"
   ]
  },
  {
   "cell_type": "code",
   "execution_count": null,
   "metadata": {},
   "outputs": [],
   "source": [
    "from pyspark.ml.feature import VectorAssembler\n",
    "#Create input features\n",
    "df_cols=df.columns\n",
    "df_cols=[ elem for elem in df_cols if elem not in [\"Time\",\"Target\"]]\n",
    "#Move features to a single vector\n",
    "assembler=VectorAssembler(inputCols=df_cols,outputCol=\"features\")\n",
    "df=assembler.transform(df)\n",
    "print(df.count())"
   ]
  },
  {
   "cell_type": "code",
   "execution_count": null,
   "metadata": {},
   "outputs": [],
   "source": [
    "from pyspark.ml.regression  import RandomForestRegressor\n",
    "import time\n",
    "\n",
    "\n",
    "\n",
    "\n",
    "train,test=df.randomSplit([0.5,0.5],seed=1)\n",
    "\n",
    "print('repartitioning')\n",
    "train=train.repartition(10)\n",
    "test=test.repartition(10)\n",
    "print('End repartition')\n",
    "\n",
    "start_time=time.time()\n",
    "\n",
    "dt=RandomForestRegressor(featuresCol='features',\n",
    "                         labelCol='Target',\n",
    "                         maxDepth=30,\n",
    "                         minInstancesPerNode=2)\n",
    "print('Start training')\n",
    "dtModel=dt.fit(train)\n",
    "print('End training')\n",
    "predictions=dtModel.transform(test)\n",
    "end_time=time.time()\n",
    "\n",
    "delta_time = end_time - start_time\n",
    "\n",
    "# 5. print total run time \n",
    "print(f'run-time: {round(delta_time/60.0, 2)}')\n",
    "\n",
    "predictions.printSchema()\n",
    "\n",
    "#predictions.select('Time','Target','probability','prediction').show()"
   ]
  },
  {
   "cell_type": "code",
   "execution_count": null,
   "metadata": {},
   "outputs": [],
   "source": [
    "#predictions.select('Target','prediction').show()\n",
    "correct_preds=predictions.filter(col('Target')==col('prediction'))\n",
    "pc=predictions.count()\n",
    "print(correct_preds.count()/pc)\n",
    "print(pc)"
   ]
  },
  {
   "cell_type": "code",
   "execution_count": null,
   "metadata": {},
   "outputs": [],
   "source": [
    "#from pyspark.ml.tuning import CrossValidator\n"
   ]
  },
  {
   "cell_type": "code",
   "execution_count": null,
   "metadata": {},
   "outputs": [],
   "source": [
    "toDisplay=predictions.select(\"Time\",\"Target\",\"prediction\")\n",
    "toDisplay=toDisplay.withColumn(\"Target\",f.round(100*col(\"Target\"),5))\n",
    "toDisplay=toDisplay.withColumn(\"prediction\",f.round(100*col(\"prediction\"),5)).show(20)\n"
   ]
  },
  {
   "cell_type": "code",
   "execution_count": null,
   "metadata": {},
   "outputs": [],
   "source": []
  }
 ],
 "metadata": {
  "kernelspec": {
   "display_name": "Python 3",
   "language": "python",
   "name": "python3"
  },
  "language_info": {
   "codemirror_mode": {
    "name": "ipython",
    "version": 3
   },
   "file_extension": ".py",
   "mimetype": "text/x-python",
   "name": "python",
   "nbconvert_exporter": "python",
   "pygments_lexer": "ipython3",
   "version": "3.7.3"
  }
 },
 "nbformat": 4,
 "nbformat_minor": 4
}
