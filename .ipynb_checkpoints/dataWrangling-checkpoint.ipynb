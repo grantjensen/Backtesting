{
 "cells": [
  {
   "cell_type": "code",
   "execution_count": 21,
   "metadata": {},
   "outputs": [],
   "source": [
    "import pyspark\n",
    "from pyspark.context import SparkContext\n",
    "from pyspark.sql import SparkSession, Window\n",
    "from pyspark.sql import functions as f\n",
    "from pyspark.sql.functions import col, signum\n",
    "\n",
    "spark = SparkSession.builder.master(\"local[1]\").getOrCreate()\n"
   ]
  },
  {
   "cell_type": "code",
   "execution_count": 22,
   "metadata": {},
   "outputs": [
    {
     "name": "stdout",
     "output_type": "stream",
     "text": [
      "+------+--------+-------+------+--------+----------+------+------+\n",
      "|  Open|    High|    Low| Close|  Volume|      Time|Status|Ticker|\n",
      "+------+--------+-------+------+--------+----------+------+------+\n",
      "|326.65|  326.67| 326.63|326.63|791327.0|1578622260|    ok|   SPY|\n",
      "|295.99|  295.99| 295.99|295.99|   780.0|1571102520|    ok|   SPY|\n",
      "|306.67|306.6735|306.355|306.45|352821.0|1591139280|    ok|   SPY|\n",
      "|310.05|  310.09| 310.01|310.02| 56166.0|1574295780|    ok|   SPY|\n",
      "|308.88|  308.93| 308.87|308.91| 71974.0|1575415920|    ok|   SPY|\n",
      "+------+--------+-------+------+--------+----------+------+------+\n",
      "only showing top 5 rows\n",
      "\n",
      "200255\n"
     ]
    }
   ],
   "source": [
    "#Need to carry over from day to day\n",
    "#Dollar bars\n",
    "df=spark.read.parquet(\"SPYcandlestick.parquet\")\n",
    "df=df.withColumn(\"Ticker\",f.lit(\"SPY\"))\n",
    "df.show(5)\n",
    "print(df.count())"
   ]
  },
  {
   "cell_type": "code",
   "execution_count": 23,
   "metadata": {},
   "outputs": [
    {
     "name": "stdout",
     "output_type": "stream",
     "text": [
      "+-------------+\n",
      "|      DolExch|\n",
      "+-------------+\n",
      "|    526530.09|\n",
      "|1.232265061E7|\n",
      "| 6.16455684E7|\n",
      "|4.233734953E7|\n",
      "|3.878613142E7|\n",
      "+-------------+\n",
      "only showing top 5 rows\n",
      "\n",
      "+------+------+------+------+-------+----------+------+------+------------------+------------------+\n",
      "|  Open|  High|   Low| Close| Volume|      Time|Status|Ticker|           DolExch|        CumDolExch|\n",
      "+------+------+------+------+-------+----------+------+------+------------------+------------------+\n",
      "|297.53|297.53|297.53|297.53|  100.0|1562167500|    ok|   SPY|29752.999999999996|29752.999999999996|\n",
      "| 297.5|297.56| 297.5|297.56| 1500.0|1562167620|    ok|   SPY|          446340.0|          476093.0|\n",
      "|297.51|297.51|297.51|297.51|  100.0|1562167680|    ok|   SPY|           29751.0|          505844.0|\n",
      "| 297.5| 297.5|297.47| 297.5| 1438.0|1562167740|    ok|   SPY|          427805.0|          933649.0|\n",
      "| 297.5|297.51|297.47|297.49| 1634.0|1562167800|    ok|   SPY|486098.66000000003|1419747.6600000001|\n",
      "|297.46|297.47|297.46|297.47|  269.0|1562167860|    ok|   SPY| 80019.43000000001|        1499767.09|\n",
      "|297.47|297.47|297.46|297.47| 4819.0|1562167980|    ok|   SPY|1433507.9300000002|2933275.0200000005|\n",
      "|297.49|297.49|297.49|297.49|  155.0|1562168040|    ok|   SPY|46110.950000000004|2979385.9700000007|\n",
      "|297.49|297.53|297.49|297.53| 5945.0|1562168100|    ok|   SPY|1768815.8499999999|        4748201.82|\n",
      "|297.53|297.53|297.53|297.53|  154.0|1562168160|    ok|   SPY|45819.619999999995|        4794021.44|\n",
      "|297.51|297.51|297.48|297.51| 6500.0|1562168280|    ok|   SPY|         1933815.0|        6727836.44|\n",
      "|297.49| 297.5|297.46|297.49| 3900.0|1562168340|    ok|   SPY|         1160211.0|        7888047.44|\n",
      "|297.53|297.54|297.49|297.53|12661.0|1562168400|    ok|   SPY|3767027.3299999996|     1.165507477E7|\n",
      "|297.53|297.54| 297.5|297.54|11728.0|1562168460|    ok|   SPY|        3489549.12|     1.514462389E7|\n",
      "|297.52|297.52|297.52|297.52| 1055.0|1562168700|    ok|   SPY|          313883.6|     1.545850749E7|\n",
      "| 297.5| 297.5| 297.5| 297.5|  600.0|1562168760|    ok|   SPY|          178500.0|     1.563700749E7|\n",
      "|297.52|297.52|297.52|297.52|  262.0|1562168820|    ok|   SPY| 77950.23999999999|     1.571495773E7|\n",
      "|297.52|297.52|297.52|297.52|  900.0|1562168880|    ok|   SPY|          267768.0|     1.598272573E7|\n",
      "|297.54|297.54|297.52|297.52| 2500.0|1562168940|    ok|   SPY|          743800.0|     1.672652573E7|\n",
      "|297.46|297.46|297.46|297.46|  100.0|1562169060|    ok|   SPY|29745.999999999996|     1.675627173E7|\n",
      "+------+------+------+------+-------+----------+------+------+------------------+------------------+\n",
      "only showing top 20 rows\n",
      "\n",
      "+--------------------+\n",
      "|          CumDolExch|\n",
      "+--------------------+\n",
      "| 9.310278973979998E7|\n",
      "| 5.810578673321801E9|\n",
      "|1.439130926434330...|\n",
      "|1.502274517295381E10|\n",
      "|1.935903786558241...|\n",
      "+--------------------+\n",
      "only showing top 5 rows\n",
      "\n",
      "+----+\n",
      "|Mark|\n",
      "+----+\n",
      "|   1|\n",
      "|   0|\n",
      "+----+\n",
      "\n"
     ]
    }
   ],
   "source": [
    "import sys\n",
    "df=df.withColumn('DolExch',col('Close')*col('Volume'))\n",
    "df.select(\"DolExch\").distinct().show(5)\n",
    "df=df.withColumn(\"CumDolExch\",f.sum(\"DolExch\").over(Window.partitionBy('Ticker').orderBy(\"Time\").rowsBetween(-sys.maxsize,0)))\n",
    "df.show()\n",
    "df.select(\"CumDolExch\").distinct().show(5)\n",
    "df=df.withColumn('DolBars', col('CumDolExch')%(1E7))#Take data pt every 10M dollars exchanged per stock\n",
    "df=df.withColumn('Mark',f.when(df.DolBars<=df.DolExch,1).otherwise(0))\n",
    "df.select(\"Mark\").distinct().show()"
   ]
  },
  {
   "cell_type": "code",
   "execution_count": 24,
   "metadata": {},
   "outputs": [
    {
     "name": "stdout",
     "output_type": "stream",
     "text": [
      "+------+------+------+------+-------+----------+------+------+------------------+------------------+------------------+----+-------+\n",
      "|  Open|  High|   Low| Close| Volume|      Time|Status|Ticker|           DolExch|        CumDolExch|           DolBars|Mark|CumMark|\n",
      "+------+------+------+------+-------+----------+------+------+------------------+------------------+------------------+----+-------+\n",
      "|297.53|297.53|297.53|297.53|  100.0|1562167500|    ok|   SPY|29752.999999999996|29752.999999999996|29752.999999999996|   1|      1|\n",
      "| 297.5|297.56| 297.5|297.56| 1500.0|1562167620|    ok|   SPY|          446340.0|          476093.0|          476093.0|   0|      1|\n",
      "|297.51|297.51|297.51|297.51|  100.0|1562167680|    ok|   SPY|           29751.0|          505844.0|          505844.0|   0|      1|\n",
      "| 297.5| 297.5|297.47| 297.5| 1438.0|1562167740|    ok|   SPY|          427805.0|          933649.0|          933649.0|   0|      1|\n",
      "| 297.5|297.51|297.47|297.49| 1634.0|1562167800|    ok|   SPY|486098.66000000003|1419747.6600000001|1419747.6600000001|   0|      1|\n",
      "|297.46|297.47|297.46|297.47|  269.0|1562167860|    ok|   SPY| 80019.43000000001|        1499767.09|        1499767.09|   0|      1|\n",
      "|297.47|297.47|297.46|297.47| 4819.0|1562167980|    ok|   SPY|1433507.9300000002|2933275.0200000005|2933275.0200000005|   0|      1|\n",
      "|297.49|297.49|297.49|297.49|  155.0|1562168040|    ok|   SPY|46110.950000000004|2979385.9700000007|2979385.9700000007|   0|      1|\n",
      "|297.49|297.53|297.49|297.53| 5945.0|1562168100|    ok|   SPY|1768815.8499999999|        4748201.82|        4748201.82|   0|      1|\n",
      "|297.53|297.53|297.53|297.53|  154.0|1562168160|    ok|   SPY|45819.619999999995|        4794021.44|        4794021.44|   0|      1|\n",
      "|297.51|297.51|297.48|297.51| 6500.0|1562168280|    ok|   SPY|         1933815.0|        6727836.44|        6727836.44|   0|      1|\n",
      "|297.49| 297.5|297.46|297.49| 3900.0|1562168340|    ok|   SPY|         1160211.0|        7888047.44|        7888047.44|   0|      1|\n",
      "|297.53|297.54|297.49|297.53|12661.0|1562168400|    ok|   SPY|3767027.3299999996|     1.165507477E7|1655074.7699999996|   1|      2|\n",
      "|297.53|297.54| 297.5|297.54|11728.0|1562168460|    ok|   SPY|        3489549.12|     1.514462389E7| 5144623.890000001|   0|      2|\n",
      "|297.52|297.52|297.52|297.52| 1055.0|1562168700|    ok|   SPY|          313883.6|     1.545850749E7|        5458507.49|   0|      2|\n",
      "| 297.5| 297.5| 297.5| 297.5|  600.0|1562168760|    ok|   SPY|          178500.0|     1.563700749E7|        5637007.49|   0|      2|\n",
      "|297.52|297.52|297.52|297.52|  262.0|1562168820|    ok|   SPY| 77950.23999999999|     1.571495773E7|        5714957.73|   0|      2|\n",
      "|297.52|297.52|297.52|297.52|  900.0|1562168880|    ok|   SPY|          267768.0|     1.598272573E7|        5982725.73|   0|      2|\n",
      "|297.54|297.54|297.52|297.52| 2500.0|1562168940|    ok|   SPY|          743800.0|     1.672652573E7|        6726525.73|   0|      2|\n",
      "|297.46|297.46|297.46|297.46|  100.0|1562169060|    ok|   SPY|29745.999999999996|     1.675627173E7|        6756271.73|   0|      2|\n",
      "+------+------+------+------+-------+----------+------+------+------------------+------------------+------------------+----+-------+\n",
      "only showing top 20 rows\n",
      "\n",
      "+-------+\n",
      "|CumMark|\n",
      "+-------+\n",
      "|     26|\n",
      "|     29|\n",
      "|    474|\n",
      "|    964|\n",
      "|   1677|\n",
      "|   1697|\n",
      "|   1806|\n",
      "|   1950|\n",
      "|   2040|\n",
      "|   2214|\n",
      "+-------+\n",
      "only showing top 10 rows\n",
      "\n"
     ]
    }
   ],
   "source": [
    "df=df.withColumn('CumMark',f.sum(\"Mark\").over(Window.partitionBy('Ticker').orderBy(\"Time\").rowsBetween(-sys.maxsize,0)))\n",
    "df.show(20)\n",
    "df.select(\"CumMark\").distinct().show(10)"
   ]
  },
  {
   "cell_type": "code",
   "execution_count": 25,
   "metadata": {},
   "outputs": [
    {
     "name": "stdout",
     "output_type": "stream",
     "text": [
      "+--------+--------+--------+--------+--------+----------+------+------+--------------------+--------------------+------------------+----+-------+\n",
      "|    Open|    High|     Low|   Close|  Volume|      Time|Status|Ticker|             DolExch|          CumDolExch|           DolBars|Mark|CumMark|\n",
      "+--------+--------+--------+--------+--------+----------+------+------+--------------------+--------------------+------------------+----+-------+\n",
      "|  297.24|  297.32|  297.23|  297.27|131122.0|1562175840|    ok|   SPY|       3.897863694E7|    9.201479921487E8|147992.14869999886|   1|     26|\n",
      "|  297.34|  297.43|  297.33| 297.415| 86366.0|1562176020|    ok|   SPY|       2.568654389E7|    9.941301698587E8| 4130169.858700037|   1|     29|\n",
      "|  297.79| 297.795|  297.74|297.7515|146296.0|1562360220|    ok|   SPY|4.3559853444000006E7|1.701835819697521...| 8358196.975212097|   1|    474|\n",
      "|  296.38|  296.43|  296.35|  296.43| 79853.0|1562624820|    ok|   SPY|       2.367082479E7|3.144494718092561...| 4947180.925613403|   1|    964|\n",
      "|  298.46|   298.5|  298.46| 298.495| 64795.0|1562790060|    ok|   SPY|      1.9340983525E7|5.772624603771107...| 6246037.711074829|   1|   1677|\n",
      "|  298.57|  298.59|  298.55|  298.57| 44822.0|1562791320|    ok|   SPY|       1.338250454E7|5.800918234991108E10| 9182349.911079407|   1|   1697|\n",
      "|298.4572|  298.52|298.4572|298.4928|104767.0|1562798580|    ok|   SPY|     3.12721951776E7|6.157188233413515...|1882334.1351547241|   1|   1806|\n",
      "|  298.49| 298.515|298.4572|  298.51|124208.0|1562798640|    ok|   SPY|          5803332.91|6.157768566704516E10| 7685667.045158386|   0|   1806|\n",
      "| 299.205|  299.26| 299.135|  299.25| 86656.0|1562866980|    ok|   SPY|         2.5931808E7|6.783055274410758E10| 552744.1075820923|   1|   1950|\n",
      "|  299.11|  299.18|   299.1| 299.145|203635.0|1562872380|    ok|   SPY|6.0916392074999996E7| 7.08576223962395E10| 7622396.239501953|   1|   2040|\n",
      "| 298.335| 298.335|  298.22|  298.25|232626.0|1562883540|    ok|   SPY|        6.93807045E7|7.708821395264009E10| 8213952.640090942|   1|   2214|\n",
      "|  298.73|  298.77|  298.71|  298.75| 59341.0|1562885700|    ok|   SPY|       1.772812375E7|7.778956607736502E10| 9566077.365020752|   1|   2250|\n",
      "|  299.71|299.7197|  299.67|  299.69| 46344.0|1562958720|    ok|   SPY|       1.388883336E7|8.498217935916705E10|2179359.1670532227|   1|   2453|\n",
      "| 299.955|  299.97| 299.885| 299.885| 41246.0|1562962260|    ok|   SPY|1.2369056709999999E7|8.609851950074261E10| 8519500.742614746|   1|   2509|\n",
      "| 299.845|  299.87|  299.83|  299.84| 27028.0|1562963520|    ok|   SPY|          8104075.52|8.647172340098793E10|1723400.9879302979|   1|   2529|\n",
      "| 300.305|  300.31|  300.19|  300.26|199329.0|1563223560|    ok|   SPY|       5.985052554E7|9.826790836646931E10| 7908366.469314575|   1|   2927|\n",
      "|  300.55|  300.62|  300.54|  300.55|223121.0|1563234960|    ok|   SPY|6.7059016550000004E7|1.019073447187982...| 7344718.798278809|   1|   3091|\n",
      "| 299.985|  299.99| 299.915|  299.93|162045.0|1563321120|    ok|   SPY|       4.860215685E7|1.136697184780471...| 9718478.047164917|   1|   3506|\n",
      "|  298.85|  298.86|  298.83|  298.83| 39188.0|1563398100|    ok|   SPY|       1.171055004E7|1.211350708031971...| 5070803.197143555|   1|   3764|\n",
      "| 298.755|  298.81|  298.73|  298.79| 33317.0|1563566400|    ok|   SPY|   9954786.430000002|1.514689114261610...|  8911426.16104126|   1|   4590|\n",
      "+--------+--------+--------+--------+--------+----------+------+------+--------------------+--------------------+------------------+----+-------+\n",
      "only showing top 20 rows\n",
      "\n",
      "Row(Open=297.24, High=297.32, Low=297.23, Close=297.27, Volume=131122.0, Time=1562175840, Status='ok', Ticker='SPY', DolExch=38978636.94, CumDolExch=920147992.1487, DolBars=147992.14869999886, Mark=1, CumMark=26)\n",
      "Row(Open=297.24, High=297.32, Low=297.23, Close=297.27, Volume=131122.0, Time=1562175840, Status='ok', Ticker='SPY', DolExch=38978636.94, CumDolExch=920147992.1487, DolBars=147992.14869999886, Mark=1, CumMark=26)\n",
      "Row(Open=297.53, High=297.53, Low=297.53, Close=297.53, Volume=100.0, Time=1562167500, Status='ok', Ticker='SPY', DolExch=29752.999999999996, CumDolExch=29752.999999999996, DolBars=29752.999999999996, Mark=1, CumMark=1, next_val=297.53, label=0.0)\n"
     ]
    },
    {
     "data": {
      "text/plain": [
       "Row(Ticker='SPY', Time=1562167500, Close=297.53, Volume=100.0, label=0.0)"
      ]
     },
     "execution_count": 25,
     "metadata": {},
     "output_type": "execute_result"
    }
   ],
   "source": [
    "df=df.withColumn(\"Volume\", f.sum(\"Volume\").over(Window.partitionBy(\"CumMark\").orderBy(\"Time\").rowsBetween(-sys.maxsize,0)))\n",
    "\n",
    "df=df.withColumn(\"Low\",f.min(\"Low\").over(Window.partitionBy(\"CumMark\").orderBy(\"Time\").rowsBetween(-sys.maxsize,0)))\n",
    "df.show()\n",
    "print(df.head())\n",
    "df=df.withColumn(\"Open\",f.first(\"Open\").over(Window.partitionBy(\"CumMark\").orderBy(\"Time\").rowsBetween(-sys.maxsize,0)))\n",
    "print(df.head())\n",
    "df=df.withColumn(\"Close\",f.last(\"Close\").over(Window.partitionBy(\"CumMark\").orderBy(\"Time\").rowsBetween(-sys.maxsize,0)))\n",
    "df=df.filter(df.Mark==1)\n",
    "\n",
    "#Add target vector(2 for +change, 1 for no change 0 for -change)\n",
    "df=df.withColumn(\"next_val\", f.lead(col(\"Close\"),1).over(Window.partitionBy('Ticker').orderBy(df[\"Time\"])))#Need to add partitionBy()\n",
    "df=df.withColumn(\"label\", (col(\"next_val\")-col(\"Close\"))/col(\"Close\"))\n",
    "print(df.head())\n",
    "df=df.select(\"Ticker\",\"Time\",\"Close\",\"Volume\",\"label\")#.withColumn(\"Target\", 100*(col(\"next_val\")-col(\"Close\"))/col(\"Close\"))\n",
    "#df=df.drop(\"next_val\").withColumn(\"Target\",1+signum(col(\"Target\")))\n",
    "df.head()"
   ]
  },
  {
   "cell_type": "code",
   "execution_count": 26,
   "metadata": {},
   "outputs": [
    {
     "name": "stdout",
     "output_type": "stream",
     "text": [
      "{'SPY': '1'}\n",
      "root\n",
      " |-- Ticker: string (nullable = false)\n",
      " |-- Time: long (nullable = true)\n",
      " |-- Close: double (nullable = true)\n",
      " |-- Volume: double (nullable = true)\n",
      " |-- label: double (nullable = true)\n",
      "\n",
      "root\n",
      " |-- Ticker: integer (nullable = true)\n",
      " |-- Time: long (nullable = true)\n",
      " |-- Close: double (nullable = true)\n",
      " |-- Volume: double (nullable = true)\n",
      " |-- label: double (nullable = true)\n",
      "\n"
     ]
    }
   ],
   "source": [
    "#Convert Ticker value to int to include in ML algo, dictionary present (tick_dict) to convert back if needed\n",
    "tickers=df.select(\"Ticker\").distinct().rdd.flatMap(lambda x: x).collect()\n",
    "\n",
    "tick_dict = {val : str(idx + 1) for idx, val in enumerate(tickers)} \n",
    "print(tick_dict)\n",
    "\n",
    "from pyspark.sql.types import IntegerType\n",
    "df=df.replace(to_replace=tick_dict, subset=['Ticker'])\n",
    "\n",
    "df.printSchema()\n",
    "df=df.withColumn(\"Ticker\",col(\"Ticker\").cast(IntegerType()))\n",
    "df.printSchema()"
   ]
  },
  {
   "cell_type": "code",
   "execution_count": 27,
   "metadata": {
    "scrolled": true
   },
   "outputs": [
    {
     "name": "stdout",
     "output_type": "stream",
     "text": [
      "118183\n",
      "+------+----------+-------+--------+--------------------+--------------------+\n",
      "|Ticker|      Time|  Close|  Volume|               label|            features|\n",
      "+------+----------+-------+--------+--------------------+--------------------+\n",
      "|     1|1562344620| 297.97| 14200.0|-3.35604255462035...|[1.0,297.97,14200.0]|\n",
      "|     1|1562365800| 298.14| 53824.0|2.180183806265436...|[1.0,298.14,53824.0]|\n",
      "|     1|1562696880| 296.26| 47518.0|3.037872139338143E-4|[1.0,296.26,47518.0]|\n",
      "|     1|1562721000| 297.08| 57480.0|1.346438669719283...|[1.0,297.08,57480.0]|\n",
      "|     1|1562781000| 299.34|238514.0|8.351707088940372E-5|[1.0,299.34,23851...|\n",
      "|     1|1562870520| 298.73| 83874.0|-3.34750443544413...|[1.0,298.73,83874.0]|\n",
      "|     1|1562961660| 299.97| 28375.0|1.000100010000090...|[1.0,299.97,28375.0]|\n",
      "|     1|1562970600| 300.18|193117.0|1.332533813046187...|[1.0,300.18,19311...|\n",
      "|     1|1563299640| 300.65| 78073.0|1.663063362714497...|[1.0,300.65,78073.0]|\n",
      "|     1|1563395400|298.895| 43447.0|-8.36414125360988...|[1.0,298.895,4344...|\n",
      "+------+----------+-------+--------+--------------------+--------------------+\n",
      "only showing top 10 rows\n",
      "\n"
     ]
    }
   ],
   "source": [
    "from pyspark.ml.feature import VectorAssembler\n",
    "#Create input features\n",
    "df_cols=df.columns\n",
    "df_cols=[ elem for elem in df_cols if elem not in [\"Time\",\"label\"]]\n",
    "#Move features to a single vector\n",
    "assembler=VectorAssembler(inputCols=df_cols,outputCol=\"features\")\n",
    "df=assembler.transform(df)\n",
    "df=df.na.drop()\n",
    "df=df.dropDuplicates()\n",
    "print(df.count())\n",
    "df.show(10)"
   ]
  },
  {
   "cell_type": "code",
   "execution_count": 24,
   "metadata": {},
   "outputs": [
    {
     "name": "stdout",
     "output_type": "stream",
     "text": [
      "+------+----------+--------+--------+--------------------+--------------------+\n",
      "|Ticker|      Time|   Close|  Volume|               label|            features|\n",
      "+------+----------+--------+--------+--------------------+--------------------+\n",
      "|     1|1587156060|   284.2|105987.0|1.055594651654805...|[1.0,284.2,105987.0]|\n",
      "|     1|1587156120|  284.23|124138.0|3.518277451356614E-5|[1.0,284.23,12413...|\n",
      "|     1|1587156180|  284.24|123893.0|-2.46270757106646...|[1.0,284.24,12389...|\n",
      "|     1|1587156240|  284.17|136113.0|-3.16711827427356...|[1.0,284.17,13611...|\n",
      "|     1|1587156300|  284.08|138193.0|-7.04027034637489...|[1.0,284.08,13819...|\n",
      "|     1|1587156360|  284.06|129099.0|2.464268112370386E-4|[1.0,284.06,12909...|\n",
      "|     1|1587156420|  284.13|111978.0|4.927322000492252E-4|[1.0,284.13,11197...|\n",
      "|     1|1587156480|  284.27|155816.0|0.001019805114855...|[1.0,284.27,15581...|\n",
      "|     1|1587156540|284.5599|229185.0|-3.51068439369172...|[1.0,284.5599,229...|\n",
      "|     1|1587156600|  284.46|107102.0|-1.75771637488415E-4|[1.0,284.46,10710...|\n",
      "+------+----------+--------+--------+--------------------+--------------------+\n",
      "only showing top 10 rows\n",
      "\n",
      "+--------------------+--------------------+--------------------+\n",
      "|          prediction|               label|            features|\n",
      "+--------------------+--------------------+--------------------+\n",
      "|-2.83357959245934...|1.055594651654805...|[1.0,284.2,105987.0]|\n",
      "|-2.83357959245934...|3.518277451356614E-5|[1.0,284.23,12413...|\n",
      "|-2.83357959245934...|-2.46270757106646...|[1.0,284.24,12389...|\n",
      "|-2.83357959245934...|-3.16711827427356...|[1.0,284.17,13611...|\n",
      "|-2.83357959245934...|-7.04027034637489...|[1.0,284.08,13819...|\n",
      "+--------------------+--------------------+--------------------+\n",
      "only showing top 5 rows\n",
      "\n"
     ]
    }
   ],
   "source": [
    "from pyspark.ml import Pipeline\n",
    "from pyspark.ml.regression import RandomForestRegressor\n",
    "from pyspark.ml.feature import VectorIndexer\n",
    "from pyspark.ml.evaluation import RegressionEvaluator\n",
    "from pyspark.ml.tuning import CrossValidator, ParamGridBuilder\n",
    "\n",
    "\n",
    "\n",
    "featureIndexer =VectorIndexer(inputCol=\"features\", outputCol=\"indexedFeatures\").fit(df)\n",
    "\n",
    "# Split the data into training and test sets (last 20% held out for testing)\n",
    "df=df.sort(\"Time\")\n",
    "trainingData=df.limit(int(df.count()*0.8))\n",
    "maxTime=trainingData.agg({'Time':'max'}).collect()[0]\n",
    "maxTime=maxTime[\"max(Time)\"]\n",
    "testData=df.filter(df.Time>maxTime)\n",
    "testData.show(10)\n",
    "\n",
    "\n",
    "# Train a RandomForest model.\n",
    "rf = RandomForestRegressor(featuresCol=\"indexedFeatures\")\n",
    "\n",
    "# Chain indexer and forest in a Pipeline\n",
    "pipeline = Pipeline(stages=[featureIndexer, rf])\n",
    "\n",
    "paramGrid = ParamGridBuilder().addGrid(rf.maxDepth, [3, 10, 20]) \\\n",
    "                              .addGrid(rf.numTrees, [5, 10]) \\\n",
    "                              .build()\n",
    "\n",
    "crossval = CrossValidator(estimator=pipeline,\n",
    "                          estimatorParamMaps=paramGrid,\n",
    "                          evaluator=RegressionEvaluator(),\n",
    "                          numFolds=5)\n",
    "\n",
    "# Train model.  This also runs the indexer.\n",
    "model = crossval.fit(trainingData)\n",
    "\n",
    "# Make predictions.\n",
    "predictions = model.transform(testData)\n",
    "\n",
    "# Select example rows to display.\n",
    "predictions.select(\"prediction\", \"label\", \"features\").show(5)\n",
    "\n",
    "\n"
   ]
  },
  {
   "cell_type": "code",
   "execution_count": null,
   "metadata": {},
   "outputs": [],
   "source": [
    "evaluator = RegressionEvaluator(\n",
    "    labelCol=\"label\", predictionCol=\"prediction\", metricName=\"r2\")\n",
    "r2 = evaluator.evaluate(predictions)\n",
    "print(\"R Squared on test data = %g\" % r2)\n",
    "\n",
    "#rfModel = model.stages[1]\n",
    "#print(rfModel)  # summary only\n"
   ]
  },
  {
   "cell_type": "code",
   "execution_count": null,
   "metadata": {},
   "outputs": [],
   "source": [
    "#r2=0.000213893 for SPY_candlestick random split 80/20%\n",
    "#r2=-0.000156503 for SPY_candlestick with first 80% being train data, last 20% is test\n",
    "#r2=9.93879e-05 for \"\" with first 80% being train data, use 5-fold CV"
   ]
  },
  {
   "cell_type": "code",
   "execution_count": null,
   "metadata": {},
   "outputs": [],
   "source": [
    "#RMSE test> RMSE train -> likely overfitting the data"
   ]
  },
  {
   "cell_type": "code",
   "execution_count": null,
   "metadata": {},
   "outputs": [],
   "source": [
    "ranFor=RandomForestRegressor(labelCol=\"label\", featuresCol=\"features\")\n",
    "modelRf=ranFor.fit(trainingData)\n",
    "print(modelRf.featureImportances) #[Ticker, Close, Volume]\n"
   ]
  },
  {
   "cell_type": "code",
   "execution_count": null,
   "metadata": {},
   "outputs": [],
   "source": [
    "predictions=predictions.repartition(100)\n",
    "predictions.write.parquet('SPYpred.parquet')"
   ]
  },
  {
   "cell_type": "code",
   "execution_count": 21,
   "metadata": {
    "scrolled": true
   },
   "outputs": [
    {
     "name": "stdout",
     "output_type": "stream",
     "text": [
      "['__class__', '__del__', '__delattr__', '__dict__', '__dir__', '__doc__', '__eq__', '__format__', '__ge__', '__getattribute__', '__gt__', '__hash__', '__init__', '__init_subclass__', '__le__', '__lt__', '__metaclass__', '__module__', '__ne__', '__new__', '__reduce__', '__reduce_ex__', '__repr__', '__setattr__', '__sizeof__', '__slotnames__', '__str__', '__subclasshook__', '__weakref__', '_call_java', '_copyValues', '_copy_params', '_create_from_java_class', '_create_model', '_create_params_from_java', '_defaultParamMap', '_dummy', '_empty_java_param_map', '_fit', '_fit_java', '_from_java', '_input_kwargs', '_java_obj', '_make_java_param_pair', '_new_java_array', '_new_java_obj', '_paramMap', '_params', '_randomUID', '_resetUid', '_resolveParam', '_set', '_setDefault', '_shouldOwn', '_to_java', '_transfer_param_map_from_java', '_transfer_param_map_to_java', '_transfer_params_from_java', '_transfer_params_to_java', 'bootstrap', 'cacheNodeIds', 'checkpointInterval', 'clear', 'copy', 'explainParam', 'explainParams', 'extractParamMap', 'featureSubsetStrategy', 'featuresCol', 'fit', 'fitMultiple', 'getBootstrap', 'getCacheNodeIds', 'getCheckpointInterval', 'getFeatureSubsetStrategy', 'getFeaturesCol', 'getImpurity', 'getLabelCol', 'getLeafCol', 'getMaxBins', 'getMaxDepth', 'getMaxMemoryInMB', 'getMinInfoGain', 'getMinInstancesPerNode', 'getMinWeightFractionPerNode', 'getNumTrees', 'getOrDefault', 'getParam', 'getPredictionCol', 'getSeed', 'getSubsamplingRate', 'getWeightCol', 'hasDefault', 'hasParam', 'impurity', 'isDefined', 'isSet', 'labelCol', 'leafCol', 'load', 'maxBins', 'maxDepth', 'maxMemoryInMB', 'minInfoGain', 'minInstancesPerNode', 'minWeightFractionPerNode', 'numTrees', 'params', 'predictionCol', 'read', 'save', 'seed', 'set', 'setBootstrap', 'setCacheNodeIds', 'setCheckpointInterval', 'setFeatureSubsetStrategy', 'setFeaturesCol', 'setImpurity', 'setLabelCol', 'setLeafCol', 'setMaxBins', 'setMaxDepth', 'setMaxMemoryInMB', 'setMinInfoGain', 'setMinInstancesPerNode', 'setMinWeightFractionPerNode', 'setNumTrees', 'setParams', 'setPredictionCol', 'setSeed', 'setSubsamplingRate', 'setWeightCol', 'subsamplingRate', 'supportedFeatureSubsetStrategies', 'supportedImpurities', 'uid', 'weightCol', 'write']\n"
     ]
    }
   ],
   "source": [
    "print(dir(rf))"
   ]
  },
  {
   "cell_type": "code",
   "execution_count": null,
   "metadata": {},
   "outputs": [],
   "source": [
    "print(df.agg({\"Time\":'max'}).collect()[0])"
   ]
  },
  {
   "cell_type": "code",
   "execution_count": null,
   "metadata": {},
   "outputs": [],
   "source": [
    "int(df.count()*0.8)"
   ]
  },
  {
   "cell_type": "code",
   "execution_count": null,
   "metadata": {},
   "outputs": [],
   "source": [
    "df.count()"
   ]
  },
  {
   "cell_type": "code",
   "execution_count": null,
   "metadata": {},
   "outputs": [],
   "source": [
    "testData.count()"
   ]
  },
  {
   "cell_type": "code",
   "execution_count": null,
   "metadata": {},
   "outputs": [],
   "source": [
    "predictions.filter(predictions.prediction<0).count()"
   ]
  },
  {
   "cell_type": "code",
   "execution_count": 25,
   "metadata": {},
   "outputs": [
    {
     "name": "stdout",
     "output_type": "stream",
     "text": [
      "+------+----------+--------+--------+--------------------+--------------------+--------------------+--------------------+\n",
      "|Ticker|      Time|   Close|  Volume|               label|            features|     indexedFeatures|          prediction|\n",
      "+------+----------+--------+--------+--------------------+--------------------+--------------------+--------------------+\n",
      "|     1|1587156060|   284.2|105987.0|1.055594651654805...|[1.0,284.2,105987.0]|[0.0,284.2,105987.0]|-2.83357959245934...|\n",
      "|     1|1587156120|  284.23|124138.0|3.518277451356614E-5|[1.0,284.23,12413...|[0.0,284.23,12413...|-2.83357959245934...|\n",
      "|     1|1587156180|  284.24|123893.0|-2.46270757106646...|[1.0,284.24,12389...|[0.0,284.24,12389...|-2.83357959245934...|\n",
      "|     1|1587156240|  284.17|136113.0|-3.16711827427356...|[1.0,284.17,13611...|[0.0,284.17,13611...|-2.83357959245934...|\n",
      "|     1|1587156300|  284.08|138193.0|-7.04027034637489...|[1.0,284.08,13819...|[0.0,284.08,13819...|-2.83357959245934...|\n",
      "|     1|1587156360|  284.06|129099.0|2.464268112370386E-4|[1.0,284.06,12909...|[0.0,284.06,12909...|-2.83357959245934...|\n",
      "|     1|1587156420|  284.13|111978.0|4.927322000492252E-4|[1.0,284.13,11197...|[0.0,284.13,11197...|-2.83357959245934...|\n",
      "|     1|1587156480|  284.27|155816.0|0.001019805114855...|[1.0,284.27,15581...|[0.0,284.27,15581...|-2.83357959245934...|\n",
      "|     1|1587156540|284.5599|229185.0|-3.51068439369172...|[1.0,284.5599,229...|[0.0,284.5599,229...|-2.83357959245934...|\n",
      "|     1|1587156600|  284.46|107102.0|-1.75771637488415E-4|[1.0,284.46,10710...|[0.0,284.46,10710...|-2.83357959245934...|\n",
      "+------+----------+--------+--------+--------------------+--------------------+--------------------+--------------------+\n",
      "only showing top 10 rows\n",
      "\n"
     ]
    }
   ],
   "source": [
    "predictions.show(10)"
   ]
  },
  {
   "cell_type": "code",
   "execution_count": 38,
   "metadata": {},
   "outputs": [],
   "source": [
    "pdDf=df.toPandas()"
   ]
  },
  {
   "cell_type": "code",
   "execution_count": null,
   "metadata": {},
   "outputs": [],
   "source": [
    "#IDEA: Add length of bar as a feature"
   ]
  },
  {
   "cell_type": "code",
   "execution_count": 39,
   "metadata": {},
   "outputs": [
    {
     "ename": "ValueError",
     "evalue": "pred_times should be a pandas Series.",
     "output_type": "error",
     "traceback": [
      "\u001b[0;31m---------------------------------------------------------------------------\u001b[0m",
      "\u001b[0;31mValueError\u001b[0m                                Traceback (most recent call last)",
      "\u001b[0;32m<ipython-input-39-492c27de8459>\u001b[0m in \u001b[0;36m<module>\u001b[0;34m\u001b[0m\n\u001b[1;32m      2\u001b[0m \u001b[0;32mfrom\u001b[0m \u001b[0mtimeseriescv\u001b[0m \u001b[0;32mimport\u001b[0m \u001b[0mcross_validation\u001b[0m \u001b[0;32mas\u001b[0m \u001b[0mcv\u001b[0m\u001b[0;34m\u001b[0m\u001b[0;34m\u001b[0m\u001b[0m\n\u001b[1;32m      3\u001b[0m \u001b[0mcrossval\u001b[0m\u001b[0;34m=\u001b[0m\u001b[0mcv\u001b[0m\u001b[0;34m.\u001b[0m\u001b[0mBaseTimeSeriesCrossValidator\u001b[0m\u001b[0;34m(\u001b[0m\u001b[0;36m10\u001b[0m\u001b[0;34m)\u001b[0m\u001b[0;34m\u001b[0m\u001b[0;34m\u001b[0m\u001b[0m\n\u001b[0;32m----> 4\u001b[0;31m \u001b[0mcrossval\u001b[0m\u001b[0;34m=\u001b[0m\u001b[0mcv\u001b[0m\u001b[0;34m.\u001b[0m\u001b[0mBaseTimeSeriesCrossValidator\u001b[0m\u001b[0;34m.\u001b[0m\u001b[0msplit\u001b[0m\u001b[0;34m(\u001b[0m\u001b[0mcrossval\u001b[0m\u001b[0;34m,\u001b[0m\u001b[0mpdDf\u001b[0m\u001b[0;34m)\u001b[0m\u001b[0;34m\u001b[0m\u001b[0;34m\u001b[0m\u001b[0m\n\u001b[0m\u001b[1;32m      5\u001b[0m \u001b[0mprint\u001b[0m\u001b[0;34m(\u001b[0m\u001b[0mcrossval\u001b[0m\u001b[0;34m)\u001b[0m\u001b[0;34m\u001b[0m\u001b[0;34m\u001b[0m\u001b[0m\n",
      "\u001b[0;32m~/.local/share/virtualenvs/grantjensen-LUZRbGIG/lib/python3.7/site-packages/timeseriescv/cross_validation.py\u001b[0m in \u001b[0;36msplit\u001b[0;34m(self, X, y, pred_times, eval_times)\u001b[0m\n\u001b[1;32m     45\u001b[0m             \u001b[0;32mraise\u001b[0m \u001b[0mValueError\u001b[0m\u001b[0;34m(\u001b[0m\u001b[0;34m'y should be a pandas Series.'\u001b[0m\u001b[0;34m)\u001b[0m\u001b[0;34m\u001b[0m\u001b[0;34m\u001b[0m\u001b[0m\n\u001b[1;32m     46\u001b[0m         \u001b[0;32mif\u001b[0m \u001b[0;32mnot\u001b[0m \u001b[0misinstance\u001b[0m\u001b[0;34m(\u001b[0m\u001b[0mpred_times\u001b[0m\u001b[0;34m,\u001b[0m \u001b[0mpd\u001b[0m\u001b[0;34m.\u001b[0m\u001b[0mSeries\u001b[0m\u001b[0;34m)\u001b[0m\u001b[0;34m:\u001b[0m\u001b[0;34m\u001b[0m\u001b[0;34m\u001b[0m\u001b[0m\n\u001b[0;32m---> 47\u001b[0;31m             \u001b[0;32mraise\u001b[0m \u001b[0mValueError\u001b[0m\u001b[0;34m(\u001b[0m\u001b[0;34m'pred_times should be a pandas Series.'\u001b[0m\u001b[0;34m)\u001b[0m\u001b[0;34m\u001b[0m\u001b[0;34m\u001b[0m\u001b[0m\n\u001b[0m\u001b[1;32m     48\u001b[0m         \u001b[0;32mif\u001b[0m \u001b[0;32mnot\u001b[0m \u001b[0misinstance\u001b[0m\u001b[0;34m(\u001b[0m\u001b[0meval_times\u001b[0m\u001b[0;34m,\u001b[0m \u001b[0mpd\u001b[0m\u001b[0;34m.\u001b[0m\u001b[0mSeries\u001b[0m\u001b[0;34m)\u001b[0m\u001b[0;34m:\u001b[0m\u001b[0;34m\u001b[0m\u001b[0;34m\u001b[0m\u001b[0m\n\u001b[1;32m     49\u001b[0m             \u001b[0;32mraise\u001b[0m \u001b[0mValueError\u001b[0m\u001b[0;34m(\u001b[0m\u001b[0;34m'eval_times should be a pandas Series.'\u001b[0m\u001b[0;34m)\u001b[0m\u001b[0;34m\u001b[0m\u001b[0;34m\u001b[0m\u001b[0m\n",
      "\u001b[0;31mValueError\u001b[0m: pred_times should be a pandas Series."
     ]
    }
   ],
   "source": [
    "#USING MLFLOW library instead\n",
    "from timeseriescv import cross_validation as cv\n",
    "crossval=cv.BaseTimeSeriesCrossValidator(10)\n",
    "crossval=cv.BaseTimeSeriesCrossValidator.split(crossval,pdDf)\n",
    "print(crossval)"
   ]
  },
  {
   "cell_type": "code",
   "execution_count": 28,
   "metadata": {},
   "outputs": [
    {
     "name": "stdout",
     "output_type": "stream",
     "text": [
      "+------+----------+------+--------+--------------------+--------------------+\n",
      "|Ticker|      Time| Close|  Volume|               label|            features|\n",
      "+------+----------+------+--------+--------------------+--------------------+\n",
      "|     1|1562344620|297.97| 14200.0|-3.35604255462035...|[1.0,297.97,14200.0]|\n",
      "|     1|1562365800|298.14| 53824.0|2.180183806265436...|[1.0,298.14,53824.0]|\n",
      "|     1|1562696880|296.26| 47518.0|3.037872139338143E-4|[1.0,296.26,47518.0]|\n",
      "|     1|1562721000|297.08| 57480.0|1.346438669719283...|[1.0,297.08,57480.0]|\n",
      "|     1|1562781000|299.34|238514.0|8.351707088940372E-5|[1.0,299.34,23851...|\n",
      "+------+----------+------+--------+--------------------+--------------------+\n",
      "only showing top 5 rows\n",
      "\n"
     ]
    }
   ],
   "source": [
    "df.show(5)"
   ]
  },
  {
   "cell_type": "code",
   "execution_count": null,
   "metadata": {},
   "outputs": [],
   "source": []
  }
 ],
 "metadata": {
  "kernelspec": {
   "display_name": "Python 3",
   "language": "python",
   "name": "python3"
  },
  "language_info": {
   "codemirror_mode": {
    "name": "ipython",
    "version": 3
   },
   "file_extension": ".py",
   "mimetype": "text/x-python",
   "name": "python",
   "nbconvert_exporter": "python",
   "pygments_lexer": "ipython3",
   "version": "3.7.3"
  }
 },
 "nbformat": 4,
 "nbformat_minor": 4
}
