{
 "cells": [
  {
   "cell_type": "code",
   "execution_count": 1,
   "metadata": {},
   "outputs": [],
   "source": [
    "import pyspark\n",
    "from pyspark.context import SparkContext\n",
    "from pyspark.sql import SparkSession, Window\n",
    "from pyspark.sql import functions as f\n",
    "from pyspark.sql.functions import col, signum\n",
    "\n",
    "spark = SparkSession.builder.master(\"local[1]\").getOrCreate()\n",
    "df=spark.read.parquet(\"CleanedSpy.parquet\")"
   ]
  },
  {
   "cell_type": "code",
   "execution_count": 2,
   "metadata": {},
   "outputs": [
    {
     "data": {
      "text/html": [
       "<div>\n",
       "<style scoped>\n",
       "    .dataframe tbody tr th:only-of-type {\n",
       "        vertical-align: middle;\n",
       "    }\n",
       "\n",
       "    .dataframe tbody tr th {\n",
       "        vertical-align: top;\n",
       "    }\n",
       "\n",
       "    .dataframe thead th {\n",
       "        text-align: right;\n",
       "    }\n",
       "</style>\n",
       "<table border=\"1\" class=\"dataframe\">\n",
       "  <thead>\n",
       "    <tr style=\"text-align: right;\">\n",
       "      <th></th>\n",
       "      <th>Ticker</th>\n",
       "      <th>pred_times</th>\n",
       "      <th>Close</th>\n",
       "      <th>Volume</th>\n",
       "      <th>label</th>\n",
       "      <th>features</th>\n",
       "      <th>eval_times</th>\n",
       "    </tr>\n",
       "  </thead>\n",
       "  <tbody>\n",
       "    <tr>\n",
       "      <th>0</th>\n",
       "      <td>1</td>\n",
       "      <td>1562611080</td>\n",
       "      <td>296.7300</td>\n",
       "      <td>48808.0</td>\n",
       "      <td>0.000067</td>\n",
       "      <td>[1.0, 296.73, 48808.0]</td>\n",
       "      <td>1562611140</td>\n",
       "    </tr>\n",
       "    <tr>\n",
       "      <th>1</th>\n",
       "      <td>1</td>\n",
       "      <td>1562612340</td>\n",
       "      <td>296.7100</td>\n",
       "      <td>91917.0</td>\n",
       "      <td>0.000337</td>\n",
       "      <td>[1.0, 296.71, 91917.0]</td>\n",
       "      <td>1562612400</td>\n",
       "    </tr>\n",
       "    <tr>\n",
       "      <th>2</th>\n",
       "      <td>1</td>\n",
       "      <td>1562698140</td>\n",
       "      <td>296.6969</td>\n",
       "      <td>88602.0</td>\n",
       "      <td>-0.000023</td>\n",
       "      <td>[1.0, 296.6969, 88602.0]</td>\n",
       "      <td>1562698200</td>\n",
       "    </tr>\n",
       "    <tr>\n",
       "      <th>3</th>\n",
       "      <td>1</td>\n",
       "      <td>1562771880</td>\n",
       "      <td>296.5000</td>\n",
       "      <td>10000.0</td>\n",
       "      <td>-0.000270</td>\n",
       "      <td>[1.0, 296.5, 10000.0]</td>\n",
       "      <td>1562771940</td>\n",
       "    </tr>\n",
       "    <tr>\n",
       "      <th>4</th>\n",
       "      <td>1</td>\n",
       "      <td>1562800800</td>\n",
       "      <td>298.4100</td>\n",
       "      <td>40558.0</td>\n",
       "      <td>0.000005</td>\n",
       "      <td>[1.0, 298.41, 40558.0]</td>\n",
       "      <td>1562800860</td>\n",
       "    </tr>\n",
       "    <tr>\n",
       "      <th>...</th>\n",
       "      <td>...</td>\n",
       "      <td>...</td>\n",
       "      <td>...</td>\n",
       "      <td>...</td>\n",
       "      <td>...</td>\n",
       "      <td>...</td>\n",
       "      <td>...</td>\n",
       "    </tr>\n",
       "    <tr>\n",
       "      <th>118178</th>\n",
       "      <td>1</td>\n",
       "      <td>1592847780</td>\n",
       "      <td>307.4000</td>\n",
       "      <td>253004.0</td>\n",
       "      <td>0.000065</td>\n",
       "      <td>[1.0, 307.4, 253004.0]</td>\n",
       "      <td>1592847840</td>\n",
       "    </tr>\n",
       "    <tr>\n",
       "      <th>118179</th>\n",
       "      <td>1</td>\n",
       "      <td>1592857800</td>\n",
       "      <td>310.1900</td>\n",
       "      <td>53208.0</td>\n",
       "      <td>-0.000032</td>\n",
       "      <td>[1.0, 310.19, 53208.0]</td>\n",
       "      <td>1592857860</td>\n",
       "    </tr>\n",
       "    <tr>\n",
       "      <th>118180</th>\n",
       "      <td>1</td>\n",
       "      <td>1592859660</td>\n",
       "      <td>310.5900</td>\n",
       "      <td>69776.0</td>\n",
       "      <td>0.000451</td>\n",
       "      <td>[1.0, 310.59, 69776.0]</td>\n",
       "      <td>1592859720</td>\n",
       "    </tr>\n",
       "    <tr>\n",
       "      <th>118181</th>\n",
       "      <td>1</td>\n",
       "      <td>1592862540</td>\n",
       "      <td>310.5654</td>\n",
       "      <td>57509.0</td>\n",
       "      <td>-0.000372</td>\n",
       "      <td>[1.0, 310.5654, 57509.0]</td>\n",
       "      <td>1592862600</td>\n",
       "    </tr>\n",
       "    <tr>\n",
       "      <th>118182</th>\n",
       "      <td>1</td>\n",
       "      <td>1592862960</td>\n",
       "      <td>310.4950</td>\n",
       "      <td>238631.0</td>\n",
       "      <td>-0.000274</td>\n",
       "      <td>[1.0, 310.495, 238631.0]</td>\n",
       "      <td>1592863020</td>\n",
       "    </tr>\n",
       "  </tbody>\n",
       "</table>\n",
       "<p>118183 rows × 7 columns</p>\n",
       "</div>"
      ],
      "text/plain": [
       "        Ticker  pred_times     Close    Volume     label  \\\n",
       "0            1  1562611080  296.7300   48808.0  0.000067   \n",
       "1            1  1562612340  296.7100   91917.0  0.000337   \n",
       "2            1  1562698140  296.6969   88602.0 -0.000023   \n",
       "3            1  1562771880  296.5000   10000.0 -0.000270   \n",
       "4            1  1562800800  298.4100   40558.0  0.000005   \n",
       "...        ...         ...       ...       ...       ...   \n",
       "118178       1  1592847780  307.4000  253004.0  0.000065   \n",
       "118179       1  1592857800  310.1900   53208.0 -0.000032   \n",
       "118180       1  1592859660  310.5900   69776.0  0.000451   \n",
       "118181       1  1592862540  310.5654   57509.0 -0.000372   \n",
       "118182       1  1592862960  310.4950  238631.0 -0.000274   \n",
       "\n",
       "                        features  eval_times  \n",
       "0         [1.0, 296.73, 48808.0]  1562611140  \n",
       "1         [1.0, 296.71, 91917.0]  1562612400  \n",
       "2       [1.0, 296.6969, 88602.0]  1562698200  \n",
       "3          [1.0, 296.5, 10000.0]  1562771940  \n",
       "4         [1.0, 298.41, 40558.0]  1562800860  \n",
       "...                          ...         ...  \n",
       "118178    [1.0, 307.4, 253004.0]  1592847840  \n",
       "118179    [1.0, 310.19, 53208.0]  1592857860  \n",
       "118180    [1.0, 310.59, 69776.0]  1592859720  \n",
       "118181  [1.0, 310.5654, 57509.0]  1592862600  \n",
       "118182  [1.0, 310.495, 238631.0]  1592863020  \n",
       "\n",
       "[118183 rows x 7 columns]"
      ]
     },
     "metadata": {},
     "output_type": "display_data"
    }
   ],
   "source": [
    "#Pred pandas df for timeseriescv\n",
    "pdDf=df.toPandas()\n",
    "pdDf=pdDf.rename(columns={\"Time\": \"pred_times\"})\n",
    "pdDf['eval_times']=pdDf['pred_times']+60;#Change to 300 for 5 min for example\n",
    "display(pdDf)"
   ]
  },
  {
   "cell_type": "code",
   "execution_count": 3,
   "metadata": {},
   "outputs": [],
   "source": [
    "#USING MLFLOW library instead\n",
    "from timeseriescv import cross_validation as cv\n",
    "from sklearn.model_selection import train_test_split\n",
    "from itertools import tee\n",
    "\n",
    "train, test=train_test_split(pdDf, test_size=0.2, shuffle=False)\n",
    "splits=4\n",
    "crossval=cv.PurgedWalkForwardCV(n_splits=splits+2) #Default settings: n_splits=10, n_test_splits=1, min_train_splits=2, max_train_splits=None\n",
    "crossval=crossval.split(train, train['label'],train['pred_times'],train['eval_times'],False)\n",
    "#True above means identical time intervals as opposed to identical sample splits\n",
    "crossval,crossval_backup=tee(crossval)"
   ]
  },
  {
   "cell_type": "code",
   "execution_count": 4,
   "metadata": {},
   "outputs": [],
   "source": [
    "# Create the parameter grid based on the results of random search \n",
    "param_grid = {\n",
    "    'bootstrap': [True],\n",
    "    'max_depth': [80,90,100,110],#80,90,100,110\n",
    "    'max_features': [1,2, 3, 4],#1,2, 3, 4\n",
    "    'min_samples_leaf': [3,4,5],#3,4,5\n",
    "    'min_samples_split': [8,10,12],#8,10,12\n",
    "    'n_estimators': [100,200,300,1000]#100,200,300,1000\n",
    "}\n"
   ]
  },
  {
   "cell_type": "code",
   "execution_count": 5,
   "metadata": {},
   "outputs": [],
   "source": [
    "from sklearn.ensemble import RandomForestRegressor\n",
    "from sklearn.model_selection import RandomizedSearchCV\n",
    "\n",
    "# Create a based model\n",
    "rf = RandomForestRegressor(random_state=1)\n",
    "# Instantiate the grid search model\n",
    "rndm_search = RandomizedSearchCV(\n",
    "    estimator = rf, param_distributions = param_grid, n_iter=2,cv = crossval, scoring='r2', n_jobs = -1)"
   ]
  },
  {
   "cell_type": "code",
   "execution_count": 6,
   "metadata": {},
   "outputs": [],
   "source": [
    "import numpy as np\n",
    "from sklearn.metrics import r2_score\n",
    "def evaluate(model, test_features, test_labels):\n",
    "        predictions = model.predict(test_features)\n",
    "        r2=r2_score(test_labels, predictions)\n",
    "        print('Model Performance')\n",
    "        print('r2: {:0.4f}.'.format(r2))\n",
    "        return r2"
   ]
  },
  {
   "cell_type": "code",
   "execution_count": 7,
   "metadata": {},
   "outputs": [
    {
     "data": {
      "text/plain": [
       "RandomizedSearchCV(cv=<itertools._tee object at 0x11b02e908>,\n",
       "                   estimator=RandomForestRegressor(random_state=1), n_iter=2,\n",
       "                   n_jobs=-1,\n",
       "                   param_distributions={'bootstrap': [True],\n",
       "                                        'max_depth': [80, 90, 100, 110],\n",
       "                                        'max_features': [1, 2, 3, 4],\n",
       "                                        'min_samples_leaf': [3, 4, 5],\n",
       "                                        'min_samples_split': [8, 10, 12],\n",
       "                                        'n_estimators': [100, 200, 300, 1000]},\n",
       "                   scoring='r2')"
      ]
     },
     "execution_count": 7,
     "metadata": {},
     "output_type": "execute_result"
    }
   ],
   "source": [
    "rndm_search.fit(train[['Ticker','pred_times','Close','Volume']],train['label'])"
   ]
  },
  {
   "cell_type": "code",
   "execution_count": 8,
   "metadata": {},
   "outputs": [
    {
     "name": "stdout",
     "output_type": "stream",
     "text": [
      "{'n_estimators': 200, 'min_samples_split': 10, 'min_samples_leaf': 4, 'max_features': 1, 'max_depth': 90, 'bootstrap': True}\n",
      "Model Performance\n",
      "r2: -0.0179.\n"
     ]
    }
   ],
   "source": [
    "print(rndm_search.best_params_)\n",
    "best_grid = rndm_search.best_estimator_\n",
    "grid_accuracy = evaluate(best_grid, test[['Ticker','pred_times','Close','Volume']], test['label'])"
   ]
  },
  {
   "cell_type": "code",
   "execution_count": 9,
   "metadata": {},
   "outputs": [
    {
     "data": {
      "image/png": "[encoded data removed]",
      "text/plain": [
       "<Figure size 432x288 with 1 Axes>"
      ]
     },
     "metadata": {
      "needs_background": "light"
     },
     "output_type": "display_data"
    }
   ],
   "source": [
    "import matplotlib.pyplot as plt\n",
    "\n",
    "#Obtain matrix with rows = fold #, cols=train/test, \n",
    "data=[]\n",
    "for i in range(splits):\n",
    "    train_temp,test_temp=next(crossval_backup)\n",
    "    data.append([train_temp[-1]/len(pdDf),(test_temp[1]-train_temp[-1])/len(pdDf),test_temp[-1]/len(pdDf)])\n",
    "#Need to take transpose of data\n",
    "data=list(map(list,zip(*data)))\n",
    "#Need to subtract training from test\n",
    "import operator\n",
    "data[2]=list(map(operator.sub, data[2], data[0]))\n",
    "data[2]=list(map(operator.add, data[2], data[1]))\n",
    "\n",
    "rows=('Train','Purge','Test')\n",
    "columns=['Fold %d'%x for x in range(splits)]\n",
    "#columns.append(\"Holdout\")\n",
    "values=np.arange(0,1,0.1)\n",
    "\n",
    "colors = plt.cm.BuPu([0.25,0,0.5])\n",
    "n_rows = len(data)\n",
    "\n",
    "index = np.arange(len(columns)) + 0.3\n",
    "bar_width = 0.4\n",
    "\n",
    "# Initialize the vertical-offset for the stacked bar chart.\n",
    "y_offset = np.zeros(len(columns))\n",
    "\n",
    "# Plot bars and create text labels for the table\n",
    "cell_text = []\n",
    "for row in range(n_rows):\n",
    "    plt.bar(index, data[row], bar_width, bottom=y_offset, color=colors[row])\n",
    "    y_offset = y_offset + data[row]\n",
    "    cell_text.append(['%1f' % x for x in y_offset])\n",
    "# Reverse colors and text labels to display the last value at the top.\n",
    "colors = colors[::-1]\n",
    "cell_text.reverse()\n",
    "\n",
    "# Add a table at the bottom of the axes\n",
    "the_table = plt.table(cellText=cell_text,\n",
    "                      rowLabels=rows,\n",
    "                      rowColours=colors,\n",
    "                      colLabels=columns,\n",
    "                      loc='bottom')\n",
    "\n",
    "# Adjust layout to make room for the table:\n",
    "plt.subplots_adjust(left=0.2, bottom=0.2)\n",
    "\n",
    "plt.ylabel(\"Cross Validation %\")\n",
    "plt.yticks(values, ['%1.1f' % val for val in values])\n",
    "plt.xticks([])\n",
    "plt.title('Cross Validation Train/Test split')\n",
    "\n",
    "plt.show()"
   ]
  },
  {
   "cell_type": "code",
   "execution_count": 10,
   "metadata": {},
   "outputs": [],
   "source": [
    "#TODO:\n",
    "#Add more stocks\n",
    "#Compare via non k-fold? (or other k-fold types?)"
   ]
  },
  {
   "cell_type": "code",
   "execution_count": 11,
   "metadata": {},
   "outputs": [
    {
     "name": "stdout",
     "output_type": "stream",
     "text": [
      "{'mean_fit_time': array([27.76594704, 40.75062424]), 'std_fit_time': array([5.84478574, 6.95285417]), 'mean_score_time': array([0.57876998, 0.30211025]), 'std_score_time': array([0.12822714, 0.04230362]), 'param_n_estimators': masked_array(data=[200, 100],\n",
      "             mask=[False, False],\n",
      "       fill_value='?',\n",
      "            dtype=object), 'param_min_samples_split': masked_array(data=[10, 8],\n",
      "             mask=[False, False],\n",
      "       fill_value='?',\n",
      "            dtype=object), 'param_min_samples_leaf': masked_array(data=[4, 3],\n",
      "             mask=[False, False],\n",
      "       fill_value='?',\n",
      "            dtype=object), 'param_max_features': masked_array(data=[1, 4],\n",
      "             mask=[False, False],\n",
      "       fill_value='?',\n",
      "            dtype=object), 'param_max_depth': masked_array(data=[90, 90],\n",
      "             mask=[False, False],\n",
      "       fill_value='?',\n",
      "            dtype=object), 'param_bootstrap': masked_array(data=[True, True],\n",
      "             mask=[False, False],\n",
      "       fill_value='?',\n",
      "            dtype=object), 'params': [{'n_estimators': 200, 'min_samples_split': 10, 'min_samples_leaf': 4, 'max_features': 1, 'max_depth': 90, 'bootstrap': True}, {'n_estimators': 100, 'min_samples_split': 8, 'min_samples_leaf': 3, 'max_features': 4, 'max_depth': 90, 'bootstrap': True}], 'split0_test_score': array([-0.02813024, -0.12551562]), 'split1_test_score': array([-0.03156552, -0.06586573]), 'split2_test_score': array([-0.65714528, -4.15917578]), 'split3_test_score': array([-0.38229071, -2.13134791]), 'mean_test_score': array([-0.27478294, -1.62047626]), 'std_test_score': array([0.26351051, 1.68505982]), 'rank_test_score': array([1, 2], dtype=int32)}\n"
     ]
    }
   ],
   "source": [
    "print(rndm_search.cv_results_)"
   ]
  },
  {
   "cell_type": "code",
   "execution_count": null,
   "metadata": {},
   "outputs": [],
   "source": []
  }
 ],
 "metadata": {
  "kernelspec": {
   "display_name": "Python 3",
   "language": "python",
   "name": "python3"
  },
  "language_info": {
   "codemirror_mode": {
    "name": "ipython",
    "version": 3
   },
   "file_extension": ".py",
   "mimetype": "text/x-python",
   "name": "python",
   "nbconvert_exporter": "python",
   "pygments_lexer": "ipython3",
   "version": "3.7.3"
  }
 },
 "nbformat": 4,
 "nbformat_minor": 4
}
