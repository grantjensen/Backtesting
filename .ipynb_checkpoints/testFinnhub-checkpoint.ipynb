{
 "cells": [
  {
   "cell_type": "code",
   "execution_count": null,
   "metadata": {},
   "outputs": [],
   "source": [
    "import finnhub\n",
    "import pyspark\n",
    "from pyspark.sql import SparkSession\n",
    "\n",
    "# Configure API key\n",
    "configuration = finnhub.Configuration(\n",
    "    api_key={\n",
    "        'token': 'brmf0inrh5re15om3qog' # Replace this\n",
    "    }\n",
    ")\n",
    "\n",
    "finnhub_client = finnhub.DefaultApi(finnhub.ApiClient(configuration))\n",
    "\n",
    "spark = SparkSession.builder.master(\"local[1]\").config(\"spark.driver.memory\", \"15g\").getOrCreate()"
   ]
  },
  {
   "cell_type": "code",
   "execution_count": null,
   "metadata": {},
   "outputs": [],
   "source": [
    "stocks=finnhub_client.stock_symbols(exchange=\"US\")\n",
    "tickers=[]\n",
    "for i in range(len(stocks)):\n",
    "    tickers.append(stocks[i].symbol)\n",
    "import pandas as pd\n",
    "master=pd.DataFrame()"
   ]
  },
  {
   "cell_type": "code",
   "execution_count": null,
   "metadata": {},
   "outputs": [],
   "source": [
    "import pyspark\n",
    "from itertools import islice\n",
    "idx=0\n",
    "for ticker in islice(tickers, idx, None):\n",
    "    print(ticker)\n",
    "    start=1592870400\n",
    "    end=1561507200\n",
    "    while(start>end):\n",
    "        try: \n",
    "            candleJSON=finnhub_client.stock_candles(ticker, '1', end, int(start))\n",
    "        except:\n",
    "            idx=tickers.index(ticker)\n",
    "            continue\n",
    "        if not candleJSON.c:\n",
    "            break\n",
    "        df=pd.DataFrame({'Ticker':ticker,\n",
    "                         'Open':candleJSON.o,\n",
    "                         'High':candleJSON.h,\n",
    "                         'Low':candleJSON.l,\n",
    "                         'Close':candleJSON.c,\n",
    "                         'Volume':candleJSON.v,\n",
    "                         'Time':candleJSON.t})\n",
    "        print(df['Time'][0])\n",
    "        \n",
    "        start=df['Time'][0]-60 #Change 60 if we move away from 1 min candles\n",
    "        master=pd.concat([df,master]).reset_index(drop=True)\n",
    "df=spark.createDataFrame(master)\n",
    "df=df.repartition(1000)\n",
    "df.write.parquet('AllCandlestick.parquet')\n",
    "display(master)"
   ]
  },
  {
   "cell_type": "code",
   "execution_count": null,
   "metadata": {},
   "outputs": [],
   "source": [
    "master2=master[master.Ticker!=\"B\"]\n",
    "display(master2)"
   ]
  },
  {
   "cell_type": "code",
   "execution_count": null,
   "metadata": {},
   "outputs": [],
   "source": [
    "master2.to_parquet(\"A_candlestick.parquet\")"
   ]
  },
  {
   "cell_type": "code",
   "execution_count": null,
   "metadata": {},
   "outputs": [],
   "source": [
    "spark = SparkSession.builder.master(\"local[1]\").config(\"spark.driver.memory\", \"45g\").config(\"spark.executor.memory\",\"45g\").getOrCreate()\n",
    "df=spark.createDataFrame(master).repartition(1000)\n",
    "df=df.na.drop()\n",
    "df=df.dropDuplicates()\n",
    "df.write.parquet('A_Candlestick.parquet')\n"
   ]
  },
  {
   "cell_type": "code",
   "execution_count": null,
   "metadata": {},
   "outputs": [],
   "source": [
    "import pyarrow.parquet as pq\n",
    "parquet_file = pq.ParquetFile('SPYcandlestick.parquet')"
   ]
  },
  {
   "cell_type": "code",
   "execution_count": null,
   "metadata": {},
   "outputs": [],
   "source": [
    "candleJSON=finnhub_client.stock_candles('SPY', '1', end, int(start))\n",
    "if not candleJSON.c:\n",
    "    print('Empty')\n",
    "# Revenue Estimates\n",
    "#print(finnhub_client.company_revenue_estimates('TSLA', freq='quarterly'))"
   ]
  },
  {
   "cell_type": "code",
   "execution_count": null,
   "metadata": {},
   "outputs": [],
   "source": [
    "# Basic financials\n",
    "print(finnhub_client.company_basic_financials('AAPL', 'margin'))"
   ]
  },
  {
   "cell_type": "code",
   "execution_count": null,
   "metadata": {},
   "outputs": [],
   "source": [
    "\n",
    "# Earnings surprises\n",
    "print(finnhub_client.company_earnings('T', limit=10))"
   ]
  },
  {
   "cell_type": "code",
   "execution_count": null,
   "metadata": {},
   "outputs": [],
   "source": [
    "# Major developments\n",
    "print(finnhub_client.major_developments('TSLA', _from=\"2019-01-01\", to=\"2020-12-31\"))"
   ]
  },
  {
   "cell_type": "code",
   "execution_count": null,
   "metadata": {},
   "outputs": [],
   "source": [
    "# Recommendation trends\n",
    "print(finnhub_client.recommendation_trends('AAPL'))"
   ]
  },
  {
   "cell_type": "code",
   "execution_count": null,
   "metadata": {},
   "outputs": [],
   "source": [
    "# Stock dividends\n",
    "print(finnhub_client.stock_dividends('AAPL', _from='2019-01-01', to='2020-06-01'))"
   ]
  },
  {
   "cell_type": "code",
   "execution_count": null,
   "metadata": {},
   "outputs": [],
   "source": [
    "# Stock splits\n",
    "print(finnhub_client.stock_splits('AAPL', _from='2000-01-01', to='2020-01-01'))"
   ]
  },
  {
   "cell_type": "code",
   "execution_count": null,
   "metadata": {},
   "outputs": [],
   "source": [
    "stocks[0].symbol"
   ]
  },
  {
   "cell_type": "code",
   "execution_count": null,
   "metadata": {},
   "outputs": [],
   "source": []
  }
 ],
 "metadata": {
  "kernelspec": {
   "display_name": "Python 3",
   "language": "python",
   "name": "python3"
  },
  "language_info": {
   "codemirror_mode": {
    "name": "ipython",
    "version": 3
   },
   "file_extension": ".py",
   "mimetype": "text/x-python",
   "name": "python",
   "nbconvert_exporter": "python",
   "pygments_lexer": "ipython3",
   "version": "3.7.3"
  }
 },
 "nbformat": 4,
 "nbformat_minor": 4
}
