{
 "cells": [
  {
   "cell_type": "code",
   "execution_count": 2,
   "metadata": {},
   "outputs": [],
   "source": [
    "import finnhub\n",
    "\n",
    "# Configure API key\n",
    "configuration = finnhub.Configuration(\n",
    "    api_key={\n",
    "        'token': 'brmf0inrh5re15om3qog' # Replace this\n",
    "    }\n",
    ")\n",
    "\n",
    "finnhub_client = finnhub.DefaultApi(finnhub.ApiClient(configuration))\n",
    "\n"
   ]
  },
  {
   "cell_type": "code",
   "execution_count": 5,
   "metadata": {},
   "outputs": [
    {
     "name": "stdout",
     "output_type": "stream",
     "text": [
      "1585919700\n",
      "1578704580\n",
      "1571054460\n",
      "1563278460\n",
      "1562001240\n"
     ]
    },
    {
     "data": {
      "text/html": [
       "<div>\n",
       "<style scoped>\n",
       "    .dataframe tbody tr th:only-of-type {\n",
       "        vertical-align: middle;\n",
       "    }\n",
       "\n",
       "    .dataframe tbody tr th {\n",
       "        vertical-align: top;\n",
       "    }\n",
       "\n",
       "    .dataframe thead th {\n",
       "        text-align: right;\n",
       "    }\n",
       "</style>\n",
       "<table border=\"1\" class=\"dataframe\">\n",
       "  <thead>\n",
       "    <tr style=\"text-align: right;\">\n",
       "      <th></th>\n",
       "      <th>Open</th>\n",
       "      <th>High</th>\n",
       "      <th>Low</th>\n",
       "      <th>Close</th>\n",
       "      <th>Volume</th>\n",
       "      <th>Time</th>\n",
       "      <th>Status</th>\n",
       "    </tr>\n",
       "  </thead>\n",
       "  <tbody>\n",
       "    <tr>\n",
       "      <th>0</th>\n",
       "      <td>296.59</td>\n",
       "      <td>296.60</td>\n",
       "      <td>296.5800</td>\n",
       "      <td>296.5800</td>\n",
       "      <td>8419.0</td>\n",
       "      <td>1562001240</td>\n",
       "      <td>ok</td>\n",
       "    </tr>\n",
       "    <tr>\n",
       "      <th>1</th>\n",
       "      <td>296.60</td>\n",
       "      <td>296.60</td>\n",
       "      <td>296.5899</td>\n",
       "      <td>296.5899</td>\n",
       "      <td>2907.0</td>\n",
       "      <td>1562001300</td>\n",
       "      <td>ok</td>\n",
       "    </tr>\n",
       "    <tr>\n",
       "      <th>2</th>\n",
       "      <td>296.58</td>\n",
       "      <td>296.59</td>\n",
       "      <td>296.5800</td>\n",
       "      <td>296.5800</td>\n",
       "      <td>7145.0</td>\n",
       "      <td>1562001360</td>\n",
       "      <td>ok</td>\n",
       "    </tr>\n",
       "    <tr>\n",
       "      <th>3</th>\n",
       "      <td>296.59</td>\n",
       "      <td>296.60</td>\n",
       "      <td>296.5700</td>\n",
       "      <td>296.6000</td>\n",
       "      <td>1444.0</td>\n",
       "      <td>1562001420</td>\n",
       "      <td>ok</td>\n",
       "    </tr>\n",
       "    <tr>\n",
       "      <th>4</th>\n",
       "      <td>296.62</td>\n",
       "      <td>296.62</td>\n",
       "      <td>296.6000</td>\n",
       "      <td>296.6000</td>\n",
       "      <td>5246.0</td>\n",
       "      <td>1562001480</td>\n",
       "      <td>ok</td>\n",
       "    </tr>\n",
       "    <tr>\n",
       "      <th>...</th>\n",
       "      <td>...</td>\n",
       "      <td>...</td>\n",
       "      <td>...</td>\n",
       "      <td>...</td>\n",
       "      <td>...</td>\n",
       "      <td>...</td>\n",
       "      <td>...</td>\n",
       "    </tr>\n",
       "    <tr>\n",
       "      <th>201626</th>\n",
       "      <td>310.43</td>\n",
       "      <td>310.70</td>\n",
       "      <td>310.4300</td>\n",
       "      <td>310.6700</td>\n",
       "      <td>466966.0</td>\n",
       "      <td>1592870160</td>\n",
       "      <td>ok</td>\n",
       "    </tr>\n",
       "    <tr>\n",
       "      <th>201627</th>\n",
       "      <td>310.67</td>\n",
       "      <td>310.84</td>\n",
       "      <td>310.6700</td>\n",
       "      <td>310.7225</td>\n",
       "      <td>471539.0</td>\n",
       "      <td>1592870220</td>\n",
       "      <td>ok</td>\n",
       "    </tr>\n",
       "    <tr>\n",
       "      <th>201628</th>\n",
       "      <td>310.73</td>\n",
       "      <td>310.76</td>\n",
       "      <td>310.6300</td>\n",
       "      <td>310.7000</td>\n",
       "      <td>448895.0</td>\n",
       "      <td>1592870280</td>\n",
       "      <td>ok</td>\n",
       "    </tr>\n",
       "    <tr>\n",
       "      <th>201629</th>\n",
       "      <td>310.70</td>\n",
       "      <td>310.82</td>\n",
       "      <td>310.5800</td>\n",
       "      <td>310.6800</td>\n",
       "      <td>1606542.0</td>\n",
       "      <td>1592870340</td>\n",
       "      <td>ok</td>\n",
       "    </tr>\n",
       "    <tr>\n",
       "      <th>201630</th>\n",
       "      <td>310.71</td>\n",
       "      <td>310.82</td>\n",
       "      <td>310.5000</td>\n",
       "      <td>310.8200</td>\n",
       "      <td>347619.0</td>\n",
       "      <td>1592870400</td>\n",
       "      <td>ok</td>\n",
       "    </tr>\n",
       "  </tbody>\n",
       "</table>\n",
       "<p>201631 rows × 7 columns</p>\n",
       "</div>"
      ],
      "text/plain": [
       "          Open    High       Low     Close     Volume        Time Status\n",
       "0       296.59  296.60  296.5800  296.5800     8419.0  1562001240     ok\n",
       "1       296.60  296.60  296.5899  296.5899     2907.0  1562001300     ok\n",
       "2       296.58  296.59  296.5800  296.5800     7145.0  1562001360     ok\n",
       "3       296.59  296.60  296.5700  296.6000     1444.0  1562001420     ok\n",
       "4       296.62  296.62  296.6000  296.6000     5246.0  1562001480     ok\n",
       "...        ...     ...       ...       ...        ...         ...    ...\n",
       "201626  310.43  310.70  310.4300  310.6700   466966.0  1592870160     ok\n",
       "201627  310.67  310.84  310.6700  310.7225   471539.0  1592870220     ok\n",
       "201628  310.73  310.76  310.6300  310.7000   448895.0  1592870280     ok\n",
       "201629  310.70  310.82  310.5800  310.6800  1606542.0  1592870340     ok\n",
       "201630  310.71  310.82  310.5000  310.8200   347619.0  1592870400     ok\n",
       "\n",
       "[201631 rows x 7 columns]"
      ]
     },
     "metadata": {},
     "output_type": "display_data"
    }
   ],
   "source": [
    "import pyspark\n",
    "import pandas as pd\n",
    "\n",
    "start=1592870400\n",
    "end=1561507200\n",
    "master=pd.DataFrame()\n",
    "while(start>end):\n",
    "    candleJSON=finnhub_client.stock_candles('SPY', '1', end, int(start))\n",
    "    if not candleJSON.c:\n",
    "        break\n",
    "    df=pd.DataFrame({'Open':candleJSON.o,\n",
    "                     'High':candleJSON.h,\n",
    "                     'Low':candleJSON.l,\n",
    "                     'Close':candleJSON.c,\n",
    "                     'Volume':candleJSON.v,\n",
    "                     'Time':candleJSON.t,\n",
    "                     'Status':candleJSON.s})\n",
    "    print(df['Time'][0])\n",
    "    start=df['Time'][0]-60 #Change 60 if we move away from 1 min candles\n",
    "    master=pd.concat([df,master]).reset_index(drop=True)\n",
    "master.to_parquet('SPYcandlestick.parquet')\n",
    "display(master)"
   ]
  },
  {
   "cell_type": "code",
   "execution_count": null,
   "metadata": {},
   "outputs": [],
   "source": [
    "import pyarrow.parquet as pq\n",
    "parquet_file = pq.ParquetFile('SPYcandlestick.parquet')"
   ]
  },
  {
   "cell_type": "code",
   "execution_count": null,
   "metadata": {},
   "outputs": [],
   "source": [
    "candleJSON=finnhub_client.stock_candles('SPY', '1', end, int(start))\n",
    "if not candleJSON.c:\n",
    "    print('Empty')\n",
    "# Revenue Estimates\n",
    "#print(finnhub_client.company_revenue_estimates('TSLA', freq='quarterly'))"
   ]
  },
  {
   "cell_type": "code",
   "execution_count": null,
   "metadata": {},
   "outputs": [],
   "source": [
    "# Basic financials\n",
    "print(finnhub_client.company_basic_financials('AAPL', 'margin'))"
   ]
  },
  {
   "cell_type": "code",
   "execution_count": null,
   "metadata": {},
   "outputs": [],
   "source": [
    "\n",
    "# Earnings surprises\n",
    "print(finnhub_client.company_earnings('T', limit=10))"
   ]
  },
  {
   "cell_type": "code",
   "execution_count": null,
   "metadata": {},
   "outputs": [],
   "source": [
    "# Major developments\n",
    "print(finnhub_client.major_developments('TSLA', _from=\"2019-01-01\", to=\"2020-12-31\"))"
   ]
  },
  {
   "cell_type": "code",
   "execution_count": null,
   "metadata": {},
   "outputs": [],
   "source": [
    "# Recommendation trends\n",
    "print(finnhub_client.recommendation_trends('AAPL'))"
   ]
  },
  {
   "cell_type": "code",
   "execution_count": null,
   "metadata": {},
   "outputs": [],
   "source": [
    "# Stock dividends\n",
    "print(finnhub_client.stock_dividends('AAPL', _from='2019-01-01', to='2020-06-01'))"
   ]
  },
  {
   "cell_type": "code",
   "execution_count": null,
   "metadata": {},
   "outputs": [],
   "source": [
    "# Stock splits\n",
    "print(finnhub_client.stock_splits('AAPL', _from='2000-01-01', to='2020-01-01'))"
   ]
  },
  {
   "cell_type": "code",
   "execution_count": null,
   "metadata": {},
   "outputs": [],
   "source": []
  }
 ],
 "metadata": {
  "kernelspec": {
   "display_name": "Python 3",
   "language": "python",
   "name": "python3"
  },
  "language_info": {
   "codemirror_mode": {
    "name": "ipython",
    "version": 3
   },
   "file_extension": ".py",
   "mimetype": "text/x-python",
   "name": "python",
   "nbconvert_exporter": "python",
   "pygments_lexer": "ipython3",
   "version": "3.7.3"
  }
 },
 "nbformat": 4,
 "nbformat_minor": 4
}
